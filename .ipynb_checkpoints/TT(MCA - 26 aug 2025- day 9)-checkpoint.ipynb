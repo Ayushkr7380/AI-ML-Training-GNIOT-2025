{
 "cells": [
  {
   "cell_type": "code",
   "execution_count": null,
   "id": "42214420-30dd-42e9-94fb-421ec09ab3e5",
   "metadata": {},
   "outputs": [],
   "source": [
    "#Today's topic :- \n",
    "\n",
    "#set creation\n",
    "#add()\n",
    "#update()\n",
    "#remove()\n",
    "#discard()\n",
    "#pop()\n",
    "#clear()\n",
    "\n",
    "#union()\n",
    "#intersetion()\n",
    "#difference()\n",
    "#symmetric_difference()\n",
    "\n",
    "#issubset()\n",
    "#isdisjoint()\n",
    "#issuperset()\n",
    "\n",
    "#sorting of set in ascending and descending order.\n"
   ]
  },
  {
   "cell_type": "code",
   "execution_count": 10,
   "id": "f2a9a9ca-3c0a-4058-b88a-79f8d260234e",
   "metadata": {},
   "outputs": [
    {
     "name": "stdout",
     "output_type": "stream",
     "text": [
      "Set :  {1, 2, 4, 6}\n",
      "After add :  {1, 2, 4, 6, 10}\n",
      "After update :  {1, 2, 4, 5, 6, 10}\n",
      "After remove or discard :  {1, 2, 4, 6, 10}\n",
      "Popped Element :  1\n",
      "Remaining Elements :  {2, 4, 6, 10}\n",
      "Before executing clear() :  {1, 2, 4}\n",
      "After executing clear() :  set()\n"
     ]
    }
   ],
   "source": [
    "#set creation\n",
    "\n",
    "nums = {1,2,4,6}\n",
    "print(\"Set : \",nums)\n",
    "\n",
    "#Adding elements in set.\n",
    "\n",
    "#You can not add element using append(),as append is not supported by set.\n",
    "#using add() . e.g: add(ele)\n",
    "nums.add(10)\n",
    "print(\"After add : \",nums)\n",
    "\n",
    "#Adding multiple elements.\n",
    "#using update()\n",
    "#update() uses \"LIST,TUPLE,SET,DICTIONARY\" as it's parameter and updates existing set. --> e.g :- update([1,2,3]) or update(another_set_varaible)\n",
    "\n",
    "nums.update([1,5,6])\n",
    "print(\"After update : \",nums)\n",
    "\n",
    "#Removing element.\n",
    "#using remove() -> It raises error if element is not present in the set. e.g: remove(ele)\n",
    "#using discard() -> It does not raise error if element is not present in the set. e.g: discard(ele)\n",
    "\n",
    "nums.remove(5)\n",
    "nums.discard(100)\n",
    "print(\"After remove or discard : \",nums)\n",
    "\n",
    "#pop() :-> It removes random element because set is unordered.\n",
    "\n",
    "popped_ele = nums.pop()\n",
    "print(\"Popped Element : \",popped_ele)\n",
    "print(\"Remaining Elements : \",nums)\n",
    "\n",
    "#clear() :-> This method clears all the items of the set and left the set empty.\n",
    "\n",
    "temp = {1,2,4}\n",
    "print(\"Before executing clear() : \",temp)\n",
    "temp.clear()\n",
    "print(\"After executing clear() : \",temp)"
   ]
  },
  {
   "cell_type": "code",
   "execution_count": 16,
   "id": "84c1b18e-d718-4cb5-bd82-f0d47d826634",
   "metadata": {},
   "outputs": [
    {
     "name": "stdout",
     "output_type": "stream",
     "text": [
      "Union of a and b :  {65, 2, 3, 4, 1, 56}\n",
      "New union set :  {65, 2, 3, 4, 1, 56}\n",
      "Intersection of a and b :  {2, 3}\n",
      "intersection in new set :  {2, 3}\n",
      "Difference of n1 and n2 is  {3, 45, 6}\n",
      "Difference in new set :  {3, 45, 6}\n",
      "Symmetric difference :  {5, 6, 7, 9}\n",
      "Symmetric difference in new set :  {5, 6, 7, 9}\n"
     ]
    }
   ],
   "source": [
    "#Sets Operations\n",
    "\n",
    "a = {1,2,3,4,65}\n",
    "b = {56,3,2,3}\n",
    "\n",
    "#union() :-> It returns all elements from both the sets without repetition.\n",
    "#It is used to return the new set.\n",
    "#It does not update the existing set.\n",
    "#e.g: union([1,2,3]) or union(another_set)\n",
    "\n",
    "print(\"Union of a and b : \",a.union(b))\n",
    "c = a.union(b)\n",
    "print(\"New union set : \",c)\n",
    "\n",
    "#intersection() :->It returns the common element from both the sets.\n",
    "#It is used to return the new set.\n",
    "#It does not update the existing set.\n",
    "#e.g: intersection([1,2,3]) or intersection(another_set)\n",
    "\n",
    "print(\"Intersection of a and b : \",a.intersection(b))\n",
    "int_d = a.intersection(b)\n",
    "print(\"intersection in new set : \",int_d)\n",
    "\n",
    "#difference()\n",
    "#It returns only items that are only present in the original set,not in both sets.\n",
    "#It returns new set.\n",
    "\n",
    "n1 = {1,2,3,45,6}\n",
    "n2 = {1,2,67,98}\n",
    "print(\"Difference of n1 and n2 is \",n1.difference(n2))\n",
    "\n",
    "dif_e = n1.difference(n2)\n",
    "print(\"Difference in new set : \",dif_e)\n",
    "\n",
    "#Symmetric_difference\n",
    "#It returns element which is not common in both.\n",
    "#It returns new set.\n",
    "\n",
    "num1 = {1,2,3,5,7}\n",
    "num2 = {9,1,2,3,6}\n",
    "\n",
    "print(\"Symmetric difference : \",num1.symmetric_difference(num2))\n",
    "\n",
    "sd_f = num1.symmetric_difference(num2)\n",
    "print(\"Symmetric difference in new set : \",sd_f)"
   ]
  },
  {
   "cell_type": "code",
   "execution_count": 23,
   "id": "f5f2eafc-d676-4f0f-92af-3e6d60186767",
   "metadata": {},
   "outputs": [
    {
     "name": "stdout",
     "output_type": "stream",
     "text": [
      "Is x is subset of y :  True\n",
      "Is y is subset of x :  False\n",
      "Is x1 disjoint y1 :  False\n",
      "Is y is superset of x :  True\n"
     ]
    }
   ],
   "source": [
    "#Relational operation\n",
    "\n",
    "x = {1,2}\n",
    "y= {1,2,3,4}\n",
    "\n",
    "#subset.\n",
    "#issubset(another_set)\n",
    "#It returns true or false\n",
    "\n",
    "print(\"Is x is subset of y : \",x.issubset(y))\n",
    "print(\"Is y is subset of x : \",y.issubset(x))\n",
    "\n",
    "#disjoint\n",
    "#isdisjoint(another_set)\n",
    "#There should be no common elements between two sets.\n",
    "#It checks if items of the given set are present in another set.\n",
    "#If items are present then this method returns false else it returns true.\n",
    "\n",
    "x1 = {1,2,4}\n",
    "y1 = {2,4,7}\n",
    "print(\"Is x1 disjoint y1 : \",x1.isdisjoint(y1))\n",
    "\n",
    "#superset\n",
    "#issuperset(another_set)\n",
    "\n",
    "print(\"Is y is superset of x : \",y.issuperset(x))"
   ]
  },
  {
   "cell_type": "code",
   "execution_count": 29,
   "id": "55a78dfc-4db4-4f0d-8352-c364ef44afab",
   "metadata": {},
   "outputs": [
    {
     "name": "stdout",
     "output_type": "stream",
     "text": [
      "Before sorting :  {1, 23, 9, 43, 45}\n",
      "After sorting :  [1, 9, 23, 43, 45]\n",
      "After sorting in descending order :  [45, 43, 23, 9, 1]\n"
     ]
    }
   ],
   "source": [
    "#sorting of set\n",
    "\n",
    "nums = {9,23,45,1,43}\n",
    "print(\"Before sorting : \",nums)\n",
    "\n",
    "#Convert to list and sort in ascending order.\n",
    "\n",
    "nums_lst = sorted(nums)\n",
    "print(\"After sorting : \",nums_lst)\n",
    "\n",
    "#sort in descending order\n",
    "sorted_nums_desc = sorted(nums,reverse=True)\n",
    "print(\"After sorting in descending order : \",sorted_nums_desc)"
   ]
  },
  {
   "cell_type": "code",
   "execution_count": null,
   "id": "4093c5da-88cd-416b-9e74-02b741ab98e1",
   "metadata": {},
   "outputs": [],
   "source": [
    "#Homwork\n",
    "\n",
    "#1.Create two sets of numbers.find and print 1.common numbers. 2.numbers only in first set.\n",
    "#2.Take a list into duplicate numbers and convert it into sets to remove duplicate then print the sorted unique value in ascendin order.\n",
    "#3.Write a program to find the sorted word in a tuple.i.e: (\"apple\",\"banana\",\"cherry\",\"kiwi\",\"strawberry\")"
   ]
  }
 ],
 "metadata": {
  "kernelspec": {
   "display_name": "Python 3 (ipykernel)",
   "language": "python",
   "name": "python3"
  },
  "language_info": {
   "codemirror_mode": {
    "name": "ipython",
    "version": 3
   },
   "file_extension": ".py",
   "mimetype": "text/x-python",
   "name": "python",
   "nbconvert_exporter": "python",
   "pygments_lexer": "ipython3",
   "version": "3.11.3"
  }
 },
 "nbformat": 4,
 "nbformat_minor": 5
}
