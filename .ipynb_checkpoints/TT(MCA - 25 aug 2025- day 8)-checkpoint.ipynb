{
 "cells": [
  {
   "cell_type": "code",
   "execution_count": 1,
   "id": "509dba8a-93e8-469e-8709-df2a62465080",
   "metadata": {},
   "outputs": [
    {
     "name": "stdout",
     "output_type": "stream",
     "text": [
      "('apple', 'banana', 'mango', 'grapes')\n",
      "apple\n",
      "grapes\n"
     ]
    }
   ],
   "source": [
    "#TODAY'S TOPIC :-\n",
    "\n",
    "#Tuple creation.\n",
    "#Index ranges.\n",
    "#Slicing of tuple.\n",
    "#Sorting of tuple.\n",
    "#max and min.\n",
    "#count and index.\n",
    "#tuple unpacking.\n",
    "#nested tuple.\n",
    "#tuple into list.\n",
    "#tuple concatenation and repetition.\n"
   ]
  },
  {
   "cell_type": "code",
   "execution_count": 1,
   "id": "6792e650-ef2c-4046-ba18-4eb10ed77fcf",
   "metadata": {},
   "outputs": [
    {
     "name": "stdout",
     "output_type": "stream",
     "text": [
      "('apple', 'banana', 'mango', 'grapes')\n",
      "apple\n",
      "grapes\n"
     ]
    }
   ],
   "source": [
    "#tuple creation\n",
    "\n",
    "fruits = (\"apple\",\"banana\",\"mango\",\"grapes\")\n",
    "print(fruits)\n",
    "\n",
    "print(fruits[0])\n",
    "print(fruits[-1])\n",
    "\n",
    "#the index range starts from 0 to infinity in clockwise direction. and in anticlockwise directioh , it starts from -1 to infinity.\n"
   ]
  },
  {
   "cell_type": "code",
   "execution_count": 2,
   "id": "4de337b3-25ea-4e18-8528-1bfdde5cbaca",
   "metadata": {},
   "outputs": [
    {
     "name": "stdout",
     "output_type": "stream",
     "text": [
      "(20, 30, 40)\n"
     ]
    }
   ],
   "source": [
    "#slicing of tuple.\n",
    "\n",
    "#Whenever you do slicing in tuples,list,dictionary , sets.\n",
    "#you take circular braces in which first number is the index value and second number is the position, which is added with plus one.\n",
    "#Whenever you do code in square braces,you have to delete one from the position of the second number.\n",
    "\n",
    "\n",
    "numbers = (10,20,30,40,50,60)\n",
    "print(numbers[1:4])"
   ]
  },
  {
   "cell_type": "code",
   "execution_count": 3,
   "id": "a979030f-0080-4121-8a0d-b044bcd3201f",
   "metadata": {},
   "outputs": [
    {
     "name": "stdout",
     "output_type": "stream",
     "text": [
      "(10, 20, 30, 40, 50)\n",
      "Ascending :  (10, 20, 30, 40, 50)\n",
      "Descending :  (50, 40, 30, 20, 10)\n"
     ]
    }
   ],
   "source": [
    "#Sorting of tuples\n",
    "nums = ( 50,10,40,30,20)\n",
    "#Ascending sort\n",
    "asc = tuple(sorted(nums))\n",
    "print(tuple(sorted(nums)))\n",
    "print(\"Ascending : \",asc)\n",
    "\n",
    "print(\"Descending : \",tuple(sorted(nums,reverse=True)))"
   ]
  },
  {
   "cell_type": "code",
   "execution_count": 4,
   "id": "84962a8b-57bd-43ae-a7a2-492cf92f7787",
   "metadata": {},
   "outputs": [
    {
     "name": "stdout",
     "output_type": "stream",
     "text": [
      "Max :  8\n",
      "Min :  2\n"
     ]
    }
   ],
   "source": [
    "#Finding minimum and maximum\n",
    "nums = ( 5, 8,3,4,2)\n",
    "print(\"Max : \",max(nums))\n",
    "print(\"Min : \",min(nums))"
   ]
  },
  {
   "cell_type": "code",
   "execution_count": 5,
   "id": "87469b02-515f-439c-b242-3daca9fe11f4",
   "metadata": {},
   "outputs": [
    {
     "name": "stdout",
     "output_type": "stream",
     "text": [
      "3\n",
      "1\n"
     ]
    }
   ],
   "source": [
    "#Count and Index\n",
    "numbers = (1,2,2,3,4,2)\n",
    "print(numbers.count(2))\n",
    "print(numbers.index(2))\n"
   ]
  },
  {
   "cell_type": "code",
   "execution_count": 6,
   "id": "3ba16ddf-eecf-4472-a9b7-387b365b67d1",
   "metadata": {},
   "outputs": [
    {
     "name": "stdout",
     "output_type": "stream",
     "text": [
      "red\n",
      "green\n",
      "blue\n",
      "Ayush\n",
      "Lucky\n",
      "Abhi\n"
     ]
    }
   ],
   "source": [
    "#tuple unpacking\n",
    "colors = (\"red\",\"green\",\"blue\")\n",
    "\n",
    "a,b,c = colors\n",
    "print(a)\n",
    "print(b)\n",
    "print(c)\n",
    "\n",
    "names = (\"Ayush\",\"Abhi\",\"Lucky\")\n",
    "noida , delhi , haridwar = names\n",
    "print(noida)\n",
    "print(haridwar)\n",
    "print(delhi)\n"
   ]
  },
  {
   "cell_type": "code",
   "execution_count": 7,
   "id": "52f9b244-7ddc-452d-8661-e205ca97173b",
   "metadata": {},
   "outputs": [
    {
     "name": "stdout",
     "output_type": "stream",
     "text": [
      "(2, 3)\n",
      "2\n"
     ]
    }
   ],
   "source": [
    "#Nested tuples\n",
    "nested = (1,(2,3),4)\n",
    "print(nested[1])\n",
    "print(nested[1][0])\n"
   ]
  },
  {
   "cell_type": "code",
   "execution_count": 8,
   "id": "5df04e99-55d3-4ad3-8038-bfcba8faf7b2",
   "metadata": {},
   "outputs": [
    {
     "name": "stdout",
     "output_type": "stream",
     "text": [
      "[10, 20, 30, 40]\n"
     ]
    }
   ],
   "source": [
    "#Converting tuple into list\n",
    "tup = (10,20,30)\n",
    "lst = list(tup)\n",
    "\n",
    "lst.append(40)\n",
    "\n",
    "print(lst)\n"
   ]
  },
  {
   "cell_type": "code",
   "execution_count": 9,
   "id": "68648c2a-aed4-40dc-8df8-2bd0f617aeb6",
   "metadata": {},
   "outputs": [
    {
     "name": "stdout",
     "output_type": "stream",
     "text": [
      "(1, 2, 3, 4, 5, 6)\n",
      "(1, 2, 3, 1, 2, 3, 1, 2, 3)\n"
     ]
    }
   ],
   "source": [
    "#tuple concatenation and repetition\n",
    "t1 = (1,2,3)\n",
    "t2 = (4,5,6)\n",
    "\n",
    "print(t1+t2)\n",
    "print(t1*3)"
   ]
  },
  {
   "cell_type": "code",
   "execution_count": 10,
   "id": "379c8b27-9c46-4da4-a559-eae2a95efc94",
   "metadata": {},
   "outputs": [],
   "source": [
    "#Homework Questions\n",
    "\n",
    "# Question 1 : \n",
    "\n",
    "# Write a program to take tuple of number ( 45,12,78,34,23) \n",
    "# Sort in ascending order \n",
    "# Sort in descending order\n",
    "\n",
    "# Question 2 : \n",
    "# Given a tuple ( 15,25,35,10,50)\n",
    "# Find max , min , and sum of all numbers \n",
    "\n",
    "\n",
    "# Question 3 : \n",
    "\n",
    "# Write a program to find how many times to appear in a tuple \n",
    "# (1,2,3,2,4,2,5) And also find the index of first occurance of 5\n",
    "\n",
    "# Question 4 :\n",
    "# Given a tuple (\"python\",\"java\",\"c++\") unpacked them in three variables and print them seperately \n",
    "\n",
    "# Question 5 : \n",
    "\n",
    "# t1 = (1,99,101)\n",
    "# t2 = (4,34,6)\n",
    "# Perform concatenation and repetition"
   ]
  },
  {
   "cell_type": "code",
   "execution_count": 12,
   "id": "176980ed-bed0-4a66-8b7c-b2b2fcb5ec99",
   "metadata": {},
   "outputs": [
    {
     "name": "stdout",
     "output_type": "stream",
     "text": [
      "Sorting in ascending order :  (12, 23, 34, 45, 78)\n",
      "Sorting in descending order :  (78, 45, 34, 23, 12)\n"
     ]
    }
   ],
   "source": [
    "# Question 1 : \n",
    "\n",
    "# Write a program to take tuple of number ( 45,12,78,34,23) \n",
    "# Sort in ascending order \n",
    "# Sort in descending order\n",
    "\n",
    "\n",
    "numbers = (45,12,78,34,23)\n",
    "\n",
    "print(\"Sorting in ascending order : \",tuple(sorted(numbers)))\n",
    "print(\"Sorting in descending order : \",tuple(sorted(numbers,reverse=True)))"
   ]
  },
  {
   "cell_type": "code",
   "execution_count": 20,
   "id": "21ee22fc-5f18-4e78-acb9-e75f0c658b33",
   "metadata": {},
   "outputs": [
    {
     "name": "stdout",
     "output_type": "stream",
     "text": [
      "max :  50\n",
      "min :  10\n",
      "sum :  135\n"
     ]
    }
   ],
   "source": [
    "# Question 2 : \n",
    "\n",
    "# Given a tuple ( 15,25,35,10,50)\n",
    "# Find max , min , and sum of all numbers \n",
    "\n",
    "nums = (15,25,35,10,50)\n",
    "print(\"max : \",max(nums))\n",
    "print(\"min : \",min(nums))\n",
    "print(\"sum : \",sum(nums))"
   ]
  },
  {
   "cell_type": "code",
   "execution_count": 18,
   "id": "fbd5df75-0778-4e99-adf4-d6a8a19647be",
   "metadata": {},
   "outputs": [
    {
     "name": "stdout",
     "output_type": "stream",
     "text": [
      "Total number of 2 present in tuple :  3\n",
      "Index of first occurance of 5 :  6\n"
     ]
    }
   ],
   "source": [
    "# Question 3 : \n",
    "\n",
    "# Write a program to find how many times 2 appears in a tuple \n",
    "# (1,2,3,2,4,2,5) And also find the index of first occurance of 5\n",
    "\n",
    "nums = (1,2,3,2,4,2,5)\n",
    "print(\"Total number of 2 present in tuple : \",nums.count(2))\n",
    "print(\"Index of first occurance of 5 : \",nums.index(5))"
   ]
  },
  {
   "cell_type": "code",
   "execution_count": 16,
   "id": "8a8c90ee-dbab-4b96-a79d-5e296b9e3df8",
   "metadata": {},
   "outputs": [
    {
     "name": "stdout",
     "output_type": "stream",
     "text": [
      "Language 1 :  python\n",
      "Language 2 :  java\n",
      "Language 3 :  c++\n"
     ]
    }
   ],
   "source": [
    "# Question 4 :\n",
    "\n",
    "# Given a tuple (\"python\",\"java\",\"c++\") unpacked them in three variables and print them seperately.\n",
    "\n",
    "languages = (\"python\",\"java\",\"c++\")\n",
    "\n",
    "l1 , l2 , l3 = languages\n",
    "\n",
    "print(\"Language 1 : \",l1)\n",
    "print(\"Language 2 : \",l2)\n",
    "print(\"Language 3 : \",l3)"
   ]
  },
  {
   "cell_type": "code",
   "execution_count": 19,
   "id": "4af83fea-da01-49c1-b4d2-a816373592c2",
   "metadata": {},
   "outputs": [
    {
     "name": "stdout",
     "output_type": "stream",
     "text": [
      "Concatenation of t1 and t2 :  (1, 99, 101, 4, 34, 6)\n",
      "Repeat t1 2 times :  (1, 99, 101, 1, 99, 101)\n"
     ]
    }
   ],
   "source": [
    "# Question 5 : \n",
    "\n",
    "# t1 = (1,99,101)\n",
    "# t2 = (4,34,6)\n",
    "# Perform concatenation and repetition\n",
    "\n",
    "t1 = (1,99,101)\n",
    "t2 = (4,34,6)\n",
    "\n",
    "print(\"Concatenation of t1 and t2 : \",(t1+t2))\n",
    "print(\"Repeat t1 2 times : \",t1*2)"
   ]
  },
  {
   "cell_type": "code",
   "execution_count": null,
   "id": "6251440e-783e-4a01-af13-a916a7d26047",
   "metadata": {},
   "outputs": [],
   "source": []
  }
 ],
 "metadata": {
  "kernelspec": {
   "display_name": "Python 3 (ipykernel)",
   "language": "python",
   "name": "python3"
  },
  "language_info": {
   "codemirror_mode": {
    "name": "ipython",
    "version": 3
   },
   "file_extension": ".py",
   "mimetype": "text/x-python",
   "name": "python",
   "nbconvert_exporter": "python",
   "pygments_lexer": "ipython3",
   "version": "3.11.3"
  }
 },
 "nbformat": 4,
 "nbformat_minor": 5
}
