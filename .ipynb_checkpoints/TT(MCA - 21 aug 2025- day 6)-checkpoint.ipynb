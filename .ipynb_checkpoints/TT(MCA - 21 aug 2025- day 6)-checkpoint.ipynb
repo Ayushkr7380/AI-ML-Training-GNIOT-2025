{
 "cells": [
  {
   "cell_type": "code",
   "execution_count": 2,
   "id": "b8a1b4cf-6165-47ae-995e-05cc803ac9c8",
   "metadata": {},
   "outputs": [
    {
     "data": {
      "text/plain": [
       "9"
      ]
     },
     "execution_count": 2,
     "metadata": {},
     "output_type": "execute_result"
    }
   ],
   "source": [
    "max(5,9,4)"
   ]
  },
  {
   "cell_type": "markdown",
   "id": "f3055996-16e0-4447-be98-b51ac8d4c60e",
   "metadata": {},
   "source": [
    "round(11.5)"
   ]
  },
  {
   "cell_type": "code",
   "execution_count": 3,
   "id": "35787737-52fe-4b2e-80d9-1ae5270e9a06",
   "metadata": {},
   "outputs": [
    {
     "name": "stdout",
     "output_type": "stream",
     "text": [
      "12.5\n"
     ]
    }
   ],
   "source": [
    "print(12.5)"
   ]
  },
  {
   "cell_type": "code",
   "execution_count": 4,
   "id": "c5cacceb-cdf4-42f2-a297-8f1b2757c488",
   "metadata": {},
   "outputs": [
    {
     "name": "stdout",
     "output_type": "stream",
     "text": [
      "12\n"
     ]
    }
   ],
   "source": [
    "print(round(12.5))"
   ]
  },
  {
   "cell_type": "code",
   "execution_count": 5,
   "id": "73abddbd-1bb7-4cfd-95e4-783e13d769f3",
   "metadata": {},
   "outputs": [
    {
     "name": "stdout",
     "output_type": "stream",
     "text": [
      "12\n"
     ]
    }
   ],
   "source": [
    "print(round(11.5))"
   ]
  },
  {
   "cell_type": "code",
   "execution_count": 6,
   "id": "67f56141-9e27-4091-89a4-3063bfaf22f8",
   "metadata": {},
   "outputs": [],
   "source": [
    "#in case of round() ,it returns the nearest even number."
   ]
  },
  {
   "cell_type": "code",
   "execution_count": 7,
   "id": "1300cc96-c82c-41a4-895e-ee1d99e28073",
   "metadata": {},
   "outputs": [],
   "source": [
    "# --- Advance variables in python ---\n",
    "\n",
    "# 1. list\n",
    "# 2. tuple\n",
    "# 3. set\n",
    "# 4. dictionary\n",
    "\n",
    "# list :- list are ordered and changable pattern in python in which you can add , remove , update , or even repeat the same item."
   ]
  },
  {
   "cell_type": "code",
   "execution_count": 12,
   "id": "bb64d7b6-3910-4ef8-ba25-15a63a906a62",
   "metadata": {},
   "outputs": [
    {
     "name": "stdout",
     "output_type": "stream",
     "text": [
      "['apple', 'banana', 'mango', 'apple']\n",
      "apple\n",
      "mango\n",
      "['apple', 'banana', 'mango', 'apple', 'grapes']\n"
     ]
    }
   ],
   "source": [
    "fruits = [\"apple\",\"banana\",\"mango\",\"apple\"]\n",
    "print(fruits)\n",
    "print(fruits[0])\n",
    "print(fruits[2])\n",
    "fruits.append(\"grapes\")\n",
    "print(fruits)"
   ]
  },
  {
   "cell_type": "code",
   "execution_count": 13,
   "id": "96afc8c1-2a26-4048-a63a-4056804b6804",
   "metadata": {},
   "outputs": [],
   "source": [
    "#tuples :- tuples are the varaibles in python in which things are ordered but unchangable."
   ]
  },
  {
   "cell_type": "code",
   "execution_count": 24,
   "id": "e3cf3fa0-9345-45b5-9324-83c8bb47b87a",
   "metadata": {},
   "outputs": [
    {
     "name": "stdout",
     "output_type": "stream",
     "text": [
      "['red', 'green', 'blue', 'pink']\n",
      "red\n",
      "4\n",
      "5\n"
     ]
    }
   ],
   "source": [
    "colors = (\"red\",\"green\",\"blue\",\"pink\")\n",
    "print(colors)\n",
    "print(colors[0])\n",
    "print(len(colors))\n",
    "colors.append(\"yellow\")\n",
    "print(len(colors))\n"
   ]
  },
  {
   "cell_type": "code",
   "execution_count": 25,
   "id": "ce71227e-2cb2-43ae-b832-8c5dcdc372e3",
   "metadata": {},
   "outputs": [],
   "source": [
    "#Notes for tuple\n",
    "#when you are constructing then you have to write things in circular braces so that you can generate a error message for that attribute."
   ]
  },
  {
   "cell_type": "code",
   "execution_count": 26,
   "id": "7a684dc5-c35f-4f27-8313-d278989886ef",
   "metadata": {},
   "outputs": [],
   "source": [
    "#sets :- sets are that varaibles in python those whose values are unordered means items have no fixed positions "
   ]
  },
  {
   "cell_type": "code",
   "execution_count": 27,
   "id": "c1f4377d-5781-4b5c-9acc-c763205e45f0",
   "metadata": {},
   "outputs": [
    {
     "name": "stdout",
     "output_type": "stream",
     "text": [
      "{1, 2, 3, 4, 5}\n",
      "{1, 2, 3, 4, 5, 6}\n"
     ]
    }
   ],
   "source": [
    "numbers = {1,2,3,4,5}\n",
    "print(numbers)\n",
    "numbers.add(6)\n",
    "print(numbers)"
   ]
  },
  {
   "cell_type": "code",
   "execution_count": 1,
   "id": "07ad564d-843b-47cf-9886-68e125dd3cdf",
   "metadata": {},
   "outputs": [],
   "source": [
    "#Homework questions\n",
    "#1. create a list of 10 numbers and write a program to print the largest and smallest number.\n",
    "#2. Make a tuple of 5 number and find the average and sum of all elements.\n",
    "#3. Convert a list into tuple.\n",
    "#4. Make factorial of 10 numbers using python.\n",
    "#5. Write a program that a tuple of word and print the longest word."
   ]
  },
  {
   "cell_type": "code",
   "execution_count": 13,
   "id": "7db0eb34-4d20-42de-bab9-0cd52758f3bf",
   "metadata": {},
   "outputs": [
    {
     "name": "stdout",
     "output_type": "stream",
     "text": [
      "Largest number is  34 and Smallest number is  1\n"
     ]
    }
   ],
   "source": [
    "#1. create a list of 10 numbers and write a program to print the largest and smallest number.\n",
    "\n",
    "#Without function\n",
    "\n",
    "# nums = [1,34,45,2]\n",
    "# largest = nums[0]\n",
    "# smallest = nums[0]\n",
    "# for i in nums:\n",
    "#     if(i>largest):\n",
    "#         largest = i\n",
    "#     if(i<smallest):\n",
    "#         smallest = i\n",
    "# print(\"Largest number is \",largest,\"and Smallest number is \",smallest)\n",
    "\n",
    "#With function\n",
    "\n",
    "nums = [1,34,5]\n",
    "largest = max(nums)\n",
    "smallest = min(nums)\n",
    "print(\"Largest number is \",largest,\"and Smallest number is \",smallest)"
   ]
  },
  {
   "cell_type": "code",
   "execution_count": 14,
   "id": "c003e4d3-e4e5-44e6-9e94-785f45b043ea",
   "metadata": {},
   "outputs": [
    {
     "name": "stdout",
     "output_type": "stream",
     "text": [
      "Sum of number is  15\n",
      "Average of numbers is  3.0\n"
     ]
    }
   ],
   "source": [
    "#2. Make a tuple of 5 number and find the average and sum of all elements.\n",
    "\n",
    "#Without function\n",
    "\n",
    "# nums2 = (1,2,3,4,5)\n",
    "# sum1 = 0\n",
    "# avg1 = 0\n",
    "# for i in nums2:\n",
    "#     sum1 = sum1 + i\n",
    "# avg1 = sum1 / len(nums2)\n",
    "# print(\"Sum of number is \",sum1)\n",
    "# print(\"Average of numbers is \",avg1)\n",
    "\n",
    "#With function\n",
    "\n",
    "nums2 = (1,2,3,4,5)\n",
    "sum1 = sum(nums2)\n",
    "avg1 = sum1 / len(nums2)\n",
    "print(\"Sum of number is \",sum1)\n",
    "print(\"Average of numbers is \",avg1)"
   ]
  },
  {
   "cell_type": "code",
   "execution_count": 6,
   "id": "4a1931da-53d0-4863-a177-4c55abda4ef9",
   "metadata": {},
   "outputs": [
    {
     "name": "stdout",
     "output_type": "stream",
     "text": [
      "(12, 'AYUSH')\n"
     ]
    }
   ],
   "source": [
    "#3. Convert a list into tuple.\n",
    "\n",
    "list1 = [12,\"AYUSH\"]\n",
    "tuple1 = tuple(list1)\n",
    "print(tuple1)\n"
   ]
  },
  {
   "cell_type": "code",
   "execution_count": 17,
   "id": "f65402a3-132a-4fcf-bf67-932541819bc8",
   "metadata": {},
   "outputs": [
    {
     "name": "stdout",
     "output_type": "stream",
     "text": [
      "Factorial of  5  =  120\n"
     ]
    }
   ],
   "source": [
    "#4. Make factorial of 10 numbers using python.\n",
    "\n",
    "#Without function\n",
    "\n",
    "# fact = 1\n",
    "# num1 = 4\n",
    "# for i in range(1,num1+1):\n",
    "#     fact = fact * i\n",
    "# print(\"Factorial of \",num1,\" = \",fact)\n",
    "\n",
    "#With function\n",
    "import math\n",
    "num1 = 5\n",
    "fact = math.factorial(num1)\n",
    "print(\"Factorial of \",num1,\" = \",fact)"
   ]
  },
  {
   "cell_type": "code",
   "execution_count": 11,
   "id": "aa0913c8-315d-49dd-8300-8635abe7c345",
   "metadata": {},
   "outputs": [
    {
     "name": "stdout",
     "output_type": "stream",
     "text": [
      "Longest word in a tuple is  Aayushi  with length  7\n"
     ]
    }
   ],
   "source": [
    "#5. Write a program that a tuple of word and print the longest word.\n",
    "words = (\"Ayush\",\"Aayushi\",\"Abhi\",\"Lucky\")\n",
    "\n",
    "longest = words[0]\n",
    "for word in words:\n",
    "    if(len(word) > len(longest)):\n",
    "        longest = word\n",
    "print(\"Longest word in a tuple is \",longest,\" with length \",len(longest))\n",
    "    \n",
    "    \n"
   ]
  },
  {
   "cell_type": "code",
   "execution_count": null,
   "id": "77eaa023-3772-47b4-b95b-1c680d900e1f",
   "metadata": {},
   "outputs": [],
   "source": []
  }
 ],
 "metadata": {
  "kernelspec": {
   "display_name": "Python 3 (ipykernel)",
   "language": "python",
   "name": "python3"
  },
  "language_info": {
   "codemirror_mode": {
    "name": "ipython",
    "version": 3
   },
   "file_extension": ".py",
   "mimetype": "text/x-python",
   "name": "python",
   "nbconvert_exporter": "python",
   "pygments_lexer": "ipython3",
   "version": "3.11.3"
  }
 },
 "nbformat": 4,
 "nbformat_minor": 5
}
