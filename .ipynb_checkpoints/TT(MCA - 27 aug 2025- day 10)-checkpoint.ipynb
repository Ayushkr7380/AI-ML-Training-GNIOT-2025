{
 "cells": [
  {
   "cell_type": "code",
   "execution_count": 1,
   "id": "fecab150-1cc6-4fd6-858c-d0c344b5d5ec",
   "metadata": {},
   "outputs": [],
   "source": [
    "#Dictionary\n",
    "\n",
    "#It is the variable in python in which we store the data in the form of key and value in which key is unique and value can be repeated.\n",
    "#E.g :- {name:\"ayush\",age:23}\n"
   ]
  },
  {
   "cell_type": "code",
   "execution_count": 8,
   "id": "700d7554-18cc-4a9b-9607-a899e21e6fc0",
   "metadata": {},
   "outputs": [
    {
     "name": "stdout",
     "output_type": "stream",
     "text": [
      "Ayush\n",
      "23\n",
      "Not found\n",
      "{'name': 'Ayush', 'age': 22, 'course': 'python', 'marks': 95}\n",
      "{'name': 'Ayush', 'age': 22, 'marks': 95}\n",
      "{'name': 'Ayush', 'age': 22}\n",
      "{'name': 'Ayush'}\n",
      "{}\n"
     ]
    }
   ],
   "source": [
    "#Creation of dictionary\n",
    "\n",
    "student = {\"name\":\"Ayush\",\"age\":23,\"course\":\"python\"}\n",
    "\n",
    "#Accessing\n",
    "\n",
    "print(student[\"name\"])\n",
    "print(student.get(\"age\"))\n",
    "print(student.get(\"marks\",\"Not found\"))\n",
    "\n",
    "#Adding and updating\n",
    "\n",
    "student[\"marks\"] = 95\n",
    "student[\"age\"] = 22\n",
    "print(student)\n",
    "\n",
    "#removing\n",
    "student.pop(\"course\") #It will remove key course\n",
    "print(student)\n",
    "\n",
    "student.popitem() #remove last insert\n",
    "print(student)\n",
    "\n",
    "del student[\"age\"] #remove key age\n",
    "print(student)\n",
    "\n",
    "student.clear() #remove all items\n",
    "print(student)\n"
   ]
  },
  {
   "cell_type": "code",
   "execution_count": 13,
   "id": "79ddab6c-2cfe-46da-be08-6ddb02396f0e",
   "metadata": {},
   "outputs": [
    {
     "name": "stdout",
     "output_type": "stream",
     "text": [
      "dict_keys(['name', 'age', 'course'])\n",
      "dict_values(['Ayush kumar', 21, 'AI-ML'])\n",
      "dict_items([('name', 'Ayush kumar'), ('age', 21), ('course', 'AI-ML')])\n"
     ]
    }
   ],
   "source": [
    "#Dictionary views\n",
    "\n",
    "student = {\n",
    "    \"name\" :\"Ayush kumar\",\n",
    "    \"age\" : 21,\n",
    "    \"course\" : \"AI-ML\"\n",
    "}\n",
    "\n",
    "print(student.keys())\n",
    "print(student.values())\n",
    "print(student.items())\n",
    "\n",
    "#Combination of key and value makes an item like this ([('name', 'Ayush kumar'), ('age', 21), ('course', 'AI-ML')])"
   ]
  },
  {
   "cell_type": "code",
   "execution_count": 14,
   "id": "ca41c0db-8580-48b3-9381-330bcbe272ab",
   "metadata": {},
   "outputs": [
    {
     "name": "stdout",
     "output_type": "stream",
     "text": [
      "{'name': 'Ayush kumar', 'age': 21, 'course': 'AI-ML'}\n"
     ]
    }
   ],
   "source": [
    "#copying\n",
    "\n",
    "new_dict = student.copy()\n",
    "print(new_dict)"
   ]
  },
  {
   "cell_type": "code",
   "execution_count": 17,
   "id": "8d9e1593-c9ee-4476-a3af-c2f79b2629ab",
   "metadata": {},
   "outputs": [
    {
     "name": "stdout",
     "output_type": "stream",
     "text": [
      "{'name': 'Ayush kumar', 'age': 21, 'course': 'AI-ML', 'city': 'Delhi'}\n"
     ]
    }
   ],
   "source": [
    "#Set default\n",
    "\n",
    "student.update({\"age\":21,\"city\":\"Delhi\"})\n",
    "print(student)"
   ]
  },
  {
   "cell_type": "code",
   "execution_count": 18,
   "id": "3d2e2ec3-df51-4fbc-86e8-417cfe7775ab",
   "metadata": {},
   "outputs": [
    {
     "name": "stdout",
     "output_type": "stream",
     "text": [
      "{'a': 0, 'b': 0, 'c': 0}\n"
     ]
    }
   ],
   "source": [
    "#form keys\n",
    "\n",
    "keys = [\"a\",\"b\",\"c\"]\n",
    "default_value = 0\n",
    "new_dict = dict.fromkeys(keys,default_value)\n",
    "print(new_dict)"
   ]
  },
  {
   "cell_type": "code",
   "execution_count": 19,
   "id": "653401ae-34d3-44a4-a77e-e3fbfdbe8551",
   "metadata": {},
   "outputs": [],
   "source": [
    "#AI-ML\n",
    "#Training the machine like human and so that they act like human is known as AI-ML"
   ]
  },
  {
   "cell_type": "code",
   "execution_count": null,
   "id": "260812e5-c5f6-4b8d-aee6-da71ef3d6a36",
   "metadata": {},
   "outputs": [],
   "source": [
    "#Homework\n",
    "\n",
    "#1. Create a dictionary of 5 student with their names as keys and marks as values.WAP to print the names of the student who score the highest mark.\n",
    "#2. Write a program that take a string from a user and creates a dictionary where keys -> words and values -> how many times each word appear.\n",
    "#3. WAP that mergestwo dictionary. d1 = {\"a\": 1,\"b\" : 2} and d2 = {\"c\" : 3 , \"d\": 4}."
   ]
  }
 ],
 "metadata": {
  "kernelspec": {
   "display_name": "Python 3 (ipykernel)",
   "language": "python",
   "name": "python3"
  },
  "language_info": {
   "codemirror_mode": {
    "name": "ipython",
    "version": 3
   },
   "file_extension": ".py",
   "mimetype": "text/x-python",
   "name": "python",
   "nbconvert_exporter": "python",
   "pygments_lexer": "ipython3",
   "version": "3.11.3"
  }
 },
 "nbformat": 4,
 "nbformat_minor": 5
}
