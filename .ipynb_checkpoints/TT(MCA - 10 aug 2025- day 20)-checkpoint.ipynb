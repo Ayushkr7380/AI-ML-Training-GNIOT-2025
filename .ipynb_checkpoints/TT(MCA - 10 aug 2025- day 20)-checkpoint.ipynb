{
 "cells": [
  {
   "cell_type": "code",
   "execution_count": 1,
   "id": "5719796c-4374-4348-bd09-46574fa0900f",
   "metadata": {},
   "outputs": [],
   "source": [
    "#Common unsupervised approches..\n",
    "\n",
    "#1. Clustering :- \n",
    "#Clustering is the process of data mining techniques that groups unlabeled data based on their similarities and differences.\n",
    "#For eg. K-Means clustering,Hierarchial Clustering, DBSCAN.-\n",
    "\n",
    "#In K-Means (K is the no. of spears)\n",
    "\n",
    "#2. Association :-\n",
    "#It is the rules based on the methods for finding relationships between variables in a given dataset.\n",
    "#For eg. isolation Forest,Local Outliner Factor.\n",
    "\n",
    "#Dimensionality reduction :-\n",
    "#It reduces the number of data inputs to the managable size while also preserving the intergrity of the dataset.\n",
    "#As such as PCA(Principle computation analysis) and t-distributed stochastic neighbor Embedding(t-SNE) are the common techniques for dimensionality reduction."
   ]
  },
  {
   "cell_type": "code",
   "execution_count": null,
   "id": "afe6e192-c6b3-429b-afbb-bd2a5de633fe",
   "metadata": {},
   "outputs": [],
   "source": []
  }
 ],
 "metadata": {
  "kernelspec": {
   "display_name": "Python 3 (ipykernel)",
   "language": "python",
   "name": "python3"
  },
  "language_info": {
   "codemirror_mode": {
    "name": "ipython",
    "version": 3
   },
   "file_extension": ".py",
   "mimetype": "text/x-python",
   "name": "python",
   "nbconvert_exporter": "python",
   "pygments_lexer": "ipython3",
   "version": "3.11.3"
  }
 },
 "nbformat": 4,
 "nbformat_minor": 5
}
