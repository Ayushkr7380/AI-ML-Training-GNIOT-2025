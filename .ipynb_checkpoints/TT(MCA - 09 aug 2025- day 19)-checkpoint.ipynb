{
 "cells": [
  {
   "cell_type": "code",
   "execution_count": 1,
   "id": "1b369bf3-71ef-4125-90d6-0c1556689d36",
   "metadata": {},
   "outputs": [],
   "source": [
    "#Scikit-Learn\n",
    "\n",
    "#Scikit learn includes :- Numpy,pandas,Matplotlib,Scipy, et-cetra.\n",
    "\n",
    "#Scikit learn is a popular library of python in machine learning.\n",
    "#It provides simple and efficient tools for data mining and data analysis.\n",
    "#It is mixture of numpy, scipy, and matplotlib."
   ]
  },
  {
   "cell_type": "code",
   "execution_count": 6,
   "id": "4fb65a31-7596-4f02-a3b1-3e4cb65ec7bf",
   "metadata": {},
   "outputs": [
    {
     "name": "stdout",
     "output_type": "stream",
     "text": [
      "Accuracy :  1.0\n"
     ]
    }
   ],
   "source": [
    "from sklearn.datasets import load_iris\n",
    "from sklearn.model_selection import train_test_split\n",
    "from sklearn.linear_model import LogisticRegression\n",
    "\n",
    "#Load iris dataset\n",
    "\n",
    "iris = load_iris()\n",
    "x , y = iris.data,iris.target\n",
    "\n",
    "#Split the dataset into training and testing sets\n",
    "x_train , x_test , y_train, y_test = train_test_split(x,y,test_size = 0.2,random_state = 42) #Random state :- Test in any order.(42 == True)\n",
    "\n",
    "model = LogisticRegression()\n",
    "model.fit(x_train,y_train)\n",
    "\n",
    "accuracy = model.score(x_test , y_test)\n",
    "print(\"Accuracy : \",accuracy)"
   ]
  },
  {
   "cell_type": "code",
   "execution_count": 7,
   "id": "7ec42d48-203a-4fc0-b35f-df0ae910653e",
   "metadata": {},
   "outputs": [],
   "source": [
    "#Key features of scikit learn library..\n",
    "\n",
    "#1. Comprehension library:-\n",
    "# It offers a wide range of supervised and unsupervised alogrithms.\n",
    "\n",
    "#2. It is user friendly as the library provides simple and consistent APIs for training and using machine learning models.\n",
    "\n",
    "#3. It is community supportive and extensive as it has detailed documentation and an active community making it easy to get started. "
   ]
  },
  {
   "cell_type": "code",
   "execution_count": 8,
   "id": "2f23800a-3c94-4cea-9da4-651ce7591b10",
   "metadata": {},
   "outputs": [],
   "source": [
    "#Supervised learning in scikit learn.\n",
    "\n",
    "#It supports many supervised learning algorithm including linear regression , logistic regression , decision tree, support vector machine and neural network.\n",
    "#It provides tools for preprocessing data for feature selection and modern evalution.\n",
    "#Supervised learning tasks includes classification(Predicting categories) and regression ( predicting continuous values )."
   ]
  },
  {
   "cell_type": "code",
   "execution_count": 9,
   "id": "9058d5f7-9864-4b6e-94b2-b08bf567974d",
   "metadata": {},
   "outputs": [],
   "source": [
    "#Unsupervised learing model...\n",
    "\n",
    "#It uses machine learning algorithm to analyse and cluster unlabled(data having no label) datasets.\n",
    "#In this alogrithm no human intervension is allowed.\n",
    "#It is used to group the data when no labels are present.As there is no label are present ,unsupervised learning algorithm typically applied to built imaginative content.\n"
   ]
  },
  {
   "cell_type": "code",
   "execution_count": 10,
   "id": "5a3b2247-dd7c-4aa2-a1e4-ec585f12370f",
   "metadata": {},
   "outputs": [],
   "source": [
    "#Supervisory signal :- It is the desired output value of the dataset."
   ]
  },
  {
   "cell_type": "code",
   "execution_count": null,
   "id": "29b93e08-27e0-46ea-a7e6-aead062bae9e",
   "metadata": {},
   "outputs": [],
   "source": [
    "#HomeWork...\n",
    "\n",
    "#1. Take your own dataset and perform all numpy and pandas functions on that dataset."
   ]
  }
 ],
 "metadata": {
  "kernelspec": {
   "display_name": "Python 3 (ipykernel)",
   "language": "python",
   "name": "python3"
  },
  "language_info": {
   "codemirror_mode": {
    "name": "ipython",
    "version": 3
   },
   "file_extension": ".py",
   "mimetype": "text/x-python",
   "name": "python",
   "nbconvert_exporter": "python",
   "pygments_lexer": "ipython3",
   "version": "3.11.3"
  }
 },
 "nbformat": 4,
 "nbformat_minor": 5
}
