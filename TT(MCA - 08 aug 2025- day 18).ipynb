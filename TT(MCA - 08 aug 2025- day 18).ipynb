{
 "cells": [
  {
   "cell_type": "code",
   "execution_count": 1,
   "id": "3d7fb74d-48b5-4c48-a24a-7403ebdee398",
   "metadata": {},
   "outputs": [],
   "source": [
    "#Benefits of vectorization (Part - 1)"
   ]
  },
  {
   "cell_type": "code",
   "execution_count": 5,
   "id": "4e76c705-e637-44c2-83a3-425b2bddc72b",
   "metadata": {},
   "outputs": [],
   "source": [
    "import time\n",
    "import numpy as np"
   ]
  },
  {
   "cell_type": "code",
   "execution_count": 4,
   "id": "7909b454-68eb-40bd-b5a3-a3f41d0d9281",
   "metadata": {
    "panel-layout": {
     "height": 0,
     "visible": true,
     "width": 100
    }
   },
   "outputs": [
    {
     "name": "stdout",
     "output_type": "stream",
     "text": [
      "Time taken by non_vectorized_time is  2.2188880443573\n"
     ]
    }
   ],
   "source": [
    "#Non Vectorized operation\n",
    "\n",
    "start_time = time.time()\n",
    "result = 0\n",
    "for i in range(10000000):\n",
    "    result+=i\n",
    "end_time = time.time()\n",
    "\n",
    "non_vectorized_time = end_time - start_time\n",
    "print(\"Time taken by non_vectorized_time is \",non_vectorized_time)"
   ]
  },
  {
   "cell_type": "code",
   "execution_count": 7,
   "id": "764fe2f0-9082-4b7b-bb29-a00bfa96c4e7",
   "metadata": {
    "panel-layout": {
     "height": 0,
     "visible": true,
     "width": 100
    }
   },
   "outputs": [
    {
     "name": "stdout",
     "output_type": "stream",
     "text": [
      "Time taken by vectorized_time is  0.03705143928527832\n"
     ]
    }
   ],
   "source": [
    "#Vectorized operation\n",
    "#Benefits of vectorization (Part - 2)\n",
    "\n",
    "\n",
    "start_time = time.time()\n",
    "\n",
    "result = np.sum(np.arange(10000000))\n",
    "\n",
    "end_time = time.time()\n",
    "\n",
    "vectorized_time = end_time - start_time\n",
    "print(\"Time taken by vectorized_time is \",vectorized_time)"
   ]
  },
  {
   "cell_type": "code",
   "execution_count": 8,
   "id": "5978b75d-f721-4280-8bd4-e993384a1517",
   "metadata": {},
   "outputs": [],
   "source": [
    "#Memory management in Numpy\n",
    "\n",
    "#Memory management stands for memory layout of numpy arrays. \n",
    "#It can view array as copies using memeory efficency.\n",
    "#It is used for optimizing the memory uses for large scale data binding and data processing."
   ]
  },
  {
   "cell_type": "code",
   "execution_count": 9,
   "id": "bebceb9c-1043-454f-aab2-5e7195ba2586",
   "metadata": {
    "panel-layout": {
     "height": 0,
     "visible": true,
     "width": 100
    }
   },
   "outputs": [
    {
     "name": "stdout",
     "output_type": "stream",
     "text": [
      "Array memeory layout :    C_CONTIGUOUS : True\n",
      "  F_CONTIGUOUS : True\n",
      "  OWNDATA : True\n",
      "  WRITEABLE : True\n",
      "  ALIGNED : True\n",
      "  WRITEBACKIFCOPY : False\n",
      "\n"
     ]
    }
   ],
   "source": [
    "#Example of memory management in numpy\n",
    "\n",
    "arr = np.array([1,2,3,4,5])\n",
    "\n",
    "print(\"Array memeory layout : \",arr.flags)\n"
   ]
  },
  {
   "cell_type": "code",
   "execution_count": 10,
   "id": "a98e93f3-465a-448a-9d7c-39b1f76f705e",
   "metadata": {},
   "outputs": [
    {
     "name": "stdout",
     "output_type": "stream",
     "text": [
      "Contiguous array :  True\n"
     ]
    }
   ],
   "source": [
    "#Contiguous memory layout\n",
    "\n",
    "arr = np.array([[1,2,3],[4,5,6]])\n",
    "\n",
    "#Check if array is contiguous\n",
    "is_contiguous = arr.flags[\"C_CONTIGUOUS\"]\n",
    "\n",
    "#Display contiguous status\n",
    "print(\"Contiguous array : \",is_contiguous)"
   ]
  },
  {
   "cell_type": "code",
   "execution_count": 11,
   "id": "8b6c3132-6678-441a-aa27-b51adf98430c",
   "metadata": {},
   "outputs": [],
   "source": [
    "#Error handling and debugging\n",
    "\n",
    "#This concept deals with the run time error.\n",
    "#These are used for debugging or identifing and resolving issues.\n",
    "\n",
    "#Why we use it ...?\n",
    "\n",
    "#We use it because it provide us with error free code in AI Applications and bots."
   ]
  },
  {
   "cell_type": "code",
   "execution_count": 18,
   "id": "7ecd9729-554d-4925-8d35-81275753c35c",
   "metadata": {},
   "outputs": [
    {
     "name": "stdout",
     "output_type": "stream",
     "text": [
      "Error .. division by zero\n"
     ]
    }
   ],
   "source": [
    "#Example\n",
    "#Zero division error\n",
    "\n",
    "try:\n",
    "    result = 5 / 0\n",
    "    print(result)\n",
    "except ZeroDivisionError as e:\n",
    "    print(\"Error ..\",e)"
   ]
  },
  {
   "cell_type": "code",
   "execution_count": 20,
   "id": "8d14def0-820a-4dbf-8121-b259c667cc64",
   "metadata": {},
   "outputs": [
    {
     "name": "stdout",
     "output_type": "stream",
     "text": [
      "Error.. index 3 is out of bounds for axis 0 with size 3\n"
     ]
    }
   ],
   "source": [
    "#Index Error Example\n",
    "\n",
    "arr = np.array([1,2,3])\n",
    "\n",
    "try:\n",
    "    print(arr[3])\n",
    "except IndexError as e:\n",
    "    print(\"Error..\",e)"
   ]
  },
  {
   "cell_type": "code",
   "execution_count": 23,
   "id": "78ee2370-392e-4c04-bf58-673fe14fa9a9",
   "metadata": {},
   "outputs": [
    {
     "name": "stdout",
     "output_type": "stream",
     "text": [
      "Square root :  nan\n"
     ]
    },
    {
     "name": "stderr",
     "output_type": "stream",
     "text": [
      "C:\\Users\\Ayush Kumar\\AppData\\Local\\Temp\\ipykernel_8888\\3026607330.py:4: RuntimeWarning: invalid value encountered in sqrt\n",
      "  result = np.sqrt(-1)\n"
     ]
    }
   ],
   "source": [
    "#Try-Except-Else\n",
    "\n",
    "try:\n",
    "    result = np.sqrt(-1)\n",
    "except ValueError as e:\n",
    "    print(\"Error...\",e)\n",
    "else:\n",
    "    print(\"Square root : \",result)"
   ]
  },
  {
   "cell_type": "code",
   "execution_count": 24,
   "id": "2767c29e-27bc-4192-846b-d3fb89c376ca",
   "metadata": {},
   "outputs": [
    {
     "name": "stdout",
     "output_type": "stream",
     "text": [
      "This block always executes\n"
     ]
    },
    {
     "name": "stderr",
     "output_type": "stream",
     "text": [
      "C:\\Users\\Ayush Kumar\\AppData\\Local\\Temp\\ipykernel_8888\\1525924770.py:4: RuntimeWarning: divide by zero encountered in divide\n",
      "  result = np.divide(10,0)\n"
     ]
    }
   ],
   "source": [
    "#Try-Except-Finally\n",
    "\n",
    "try:\n",
    "    result = np.divide(10,0)\n",
    "except ZeroDivisionError as e:\n",
    "    print(\"Error...\",e)\n",
    "finally:\n",
    "    print(\"This block always executes\")"
   ]
  },
  {
   "cell_type": "code",
   "execution_count": 36,
   "id": "6c2f53a2-16c4-4f32-87e0-2852c487cb81",
   "metadata": {},
   "outputs": [
    {
     "name": "stdout",
     "output_type": "stream",
     "text": [
      "Check board pattern : \n",
      "0 1 0 1 0 \n",
      "9 0 9 0 9 \n",
      "0 1 0 1 0 \n",
      "9 0 9 0 9 \n",
      "0 1 0 1 0 \n"
     ]
    }
   ],
   "source": [
    "#Python program to print \n",
    "\n",
    "#CheckBoard\n",
    "\n",
    "#function to print board\n",
    "\n",
    "def printCheckBoard(n):\n",
    "    print(\"Check board pattern : \")\n",
    "\n",
    "    #Create NXN matrix\n",
    "\n",
    "    x = np.zeros((n,n),dtype = int)\n",
    "    \n",
    "    #fill with 1 \n",
    "\n",
    "    x[1::2,::2] = 9\n",
    "    x[::2,1::2] = 1\n",
    "\n",
    "    #Print\n",
    "    for i in range(n):\n",
    "        for j in range(n):\n",
    "            print(x[i][j],end=\" \")\n",
    "        print()\n",
    "\n",
    "n = 5\n",
    "printCheckBoard(n)        "
   ]
  },
  {
   "cell_type": "code",
   "execution_count": null,
   "id": "193241b5-12a9-4d18-99bc-5d647aff37ce",
   "metadata": {},
   "outputs": [],
   "source": []
  }
 ],
 "metadata": {
  "kernelspec": {
   "display_name": "Python 3 (ipykernel)",
   "language": "python",
   "name": "python3"
  },
  "language_info": {
   "codemirror_mode": {
    "name": "ipython",
    "version": 3
   },
   "file_extension": ".py",
   "mimetype": "text/x-python",
   "name": "python",
   "nbconvert_exporter": "python",
   "pygments_lexer": "ipython3",
   "version": "3.11.3"
  },
  "panel-cell-order": [
   "7909b454-68eb-40bd-b5a3-a3f41d0d9281",
   "764fe2f0-9082-4b7b-bb29-a00bfa96c4e7",
   "bebceb9c-1043-454f-aab2-5e7195ba2586"
  ]
 },
 "nbformat": 4,
 "nbformat_minor": 5
}
