{
 "cells": [
  {
   "cell_type": "code",
   "execution_count": 1,
   "id": "ba6be3d6-39a3-4986-8445-a9d8048740a7",
   "metadata": {},
   "outputs": [],
   "source": [
    "#list methods \n",
    "\n",
    "# 1. Appned :- Add single element. --> append(element)\n",
    "# 2. Extend :- Add more than one element or another list into previous list. --> extend([ele1,ele2,..eleN]) or extend(Another_list)\n",
    "# 3. Insert : Used to add element at particular index. --> insert(index,element)\n",
    "# 4. Remove : used to remove 1st occurence of element. --> remove(element) \n",
    "# 5. Search :- For searching index() function is used --> index(element) , it returns element present at which index.\n",
    "# 6. Sort / Reverse sort :- Sort the list in ascending order by default. sort in reverse order by passing sort(reverse = True) as parameter.\n",
    "# 7. pop :- Used to remove element from particular index. --> pop(index)\n",
    "# 8. count :- Returns the total occurence of element. --> count(element)\n",
    "# 9. reverse :- reverse the current list. --> reverse()\n",
    "# 10. copy :- returns copy of the list without modifying original list. --> copy()\n",
    "# 11. clear :- empty the list. --> clear()"
   ]
  },
  {
   "cell_type": "code",
   "execution_count": 23,
   "id": "9aef8a12-b93d-4197-a00c-2344f62ca148",
   "metadata": {},
   "outputs": [
    {
     "name": "stdout",
     "output_type": "stream",
     "text": [
      " --- List functions --- \n",
      "Original_list :  [3, 1, 2, 1, 3, 4, 5]\n",
      "append(9) :  [3, 1, 2, 1, 3, 4, 5, 9]\n",
      "extend([2,6]) :  [3, 1, 2, 1, 3, 4, 5, 9, 2, 6]\n",
      "insert(2,7) :  [3, 1, 7, 2, 1, 3, 4, 5, 9, 2, 6]\n",
      "remove(1) :  [3, 7, 2, 1, 3, 4, 5, 9, 2, 6]\n",
      "Popped element is  3\n",
      "After pop :  [3, 7, 2, 1, 4, 5, 9, 2, 6]\n",
      "index 6 :  8\n",
      "count the occurence of element 2  :  2\n",
      "Sorted list :  [1, 2, 2, 3, 4, 5, 6, 7, 9]\n",
      "Reverse sorting :  [9, 7, 6, 5, 4, 3, 2, 2, 1]\n",
      "Reverse :  [1, 2, 2, 3, 4, 5, 6, 7, 9]\n",
      "Copied List is  [1, 2, 2, 3, 4, 5, 6, 7, 9]\n",
      "Copied List is cleared :  []\n"
     ]
    }
   ],
   "source": [
    "print(\" --- List functions --- \")\n",
    "\n",
    "\n",
    "myList = [3,1,2,1,3,4,5]\n",
    "print(\"Original_list : \",myList)\n",
    "\n",
    "#Add Elements\n",
    "myList.append(9)\n",
    "print(\"append(9) : \",myList)\n",
    "\n",
    "#Extend list\n",
    "myList.extend([2,6])\n",
    "print(\"extend([2,6]) : \",myList)\n",
    "\n",
    "#insert\n",
    "myList.insert(2,7)\n",
    "print(\"insert(2,7) : \",myList)\n",
    "\n",
    "#remove\n",
    "myList.remove(1)\n",
    "print(\"remove(1) : \",myList)\n",
    "\n",
    "#pop\n",
    "popped = myList.pop(4)\n",
    "print(\"Popped element is \",popped)\n",
    "print(\"After pop : \",myList)\n",
    "\n",
    "#search\n",
    "print(\"index 6 : \",myList.index(6))\n",
    "\n",
    "#count\n",
    "c = myList.count(2)\n",
    "print(\"count the occurence of element 2  : \",c)\n",
    "\n",
    "#reverse / sort\n",
    "\n",
    "myList.sort()\n",
    "print(\"Sorted list : \",myList)\n",
    "\n",
    "myList.sort(reverse = True)\n",
    "print(\"Reverse sorting : \",myList)\n",
    "\n",
    "myList.reverse()\n",
    "print(\"Reverse : \",myList)\n",
    "\n",
    "#copy\n",
    "myCopiedList = myList.copy()\n",
    "print(\"Copied List is \",myCopiedList)\n",
    "\n",
    "#clear\n",
    "myCopiedList.clear()\n",
    "print(\"Copied List is cleared : \",myCopiedList)\n"
   ]
  },
  {
   "cell_type": "code",
   "execution_count": null,
   "id": "01eead48-5aae-433b-8f53-686f05f01ca6",
   "metadata": {},
   "outputs": [],
   "source": [
    "#Homework\n",
    "#1. Write a program to take a list of numbers :- [45, 12 , 78 , 34 , 89 , 23] \n",
    "    #a. sort the list in ascending order.\n",
    "    #b. sort the list in decending order.\n",
    "    #c. reverse the list.\n",
    "#2. Given a list 2,4,6,2,8,2,10 .use count to find how many times 2 appears and then find the postion of 1st 8 element.\n",
    "#3. Write a program to extend and clear the list 1,2,94,36,7."
   ]
  },
  {
   "cell_type": "code",
   "execution_count": 10,
   "id": "3a9a7431-c2b0-4ce7-b6de-5fda00ace337",
   "metadata": {},
   "outputs": [
    {
     "name": "stdout",
     "output_type": "stream",
     "text": [
      "Sort the list in ascending order :  [12, 23, 34, 45, 78, 89]\n",
      "Sort the list in descending order :  [89, 78, 45, 34, 23, 12]\n",
      "Reverse the list :  [12, 23, 34, 45, 78, 89]\n"
     ]
    }
   ],
   "source": [
    "#1. Write a program to take a list of numbers :- [45, 12 , 78 , 34 , 89 , 23] \n",
    "    #a. sort the list in ascending order.\n",
    "    #b. sort the list in decending order.\n",
    "    #c. reverse the list.\n",
    "\n",
    "numbers = [45, 12 , 78 , 34 , 89 , 23]\n",
    "\n",
    "numbers.sort()\n",
    "print(\"Sort the list in ascending order : \",numbers)\n",
    "\n",
    "numbers.sort(reverse = True)\n",
    "print(\"Sort the list in descending order : \",numbers)\n",
    "\n",
    "numbers.reverse()\n",
    "print(\"Reverse the list : \",numbers)"
   ]
  },
  {
   "cell_type": "code",
   "execution_count": 13,
   "id": "0b4bff1a-6fab-4d73-aabf-3389575b4a15",
   "metadata": {},
   "outputs": [
    {
     "name": "stdout",
     "output_type": "stream",
     "text": [
      "Total count of 2 in the list is  3\n",
      "Position of first occurence of 8 is  4\n"
     ]
    }
   ],
   "source": [
    "#2. Given a list 2,4,6,2,8,2,10 .use count to find how many times 2 appears and then find the postion of 1st 8 element.\n",
    "\n",
    "numbers = [2,4,6,2,8,2,10 ]\n",
    "print(\"Total count of 2 in the list is \",numbers.count(2))\n",
    "print(\"Position of first occurence of 8 is \",numbers.index(8))"
   ]
  },
  {
   "cell_type": "code",
   "execution_count": 15,
   "id": "cb5c6990-02e1-49a9-a534-3fd8d54ab017",
   "metadata": {},
   "outputs": [
    {
     "name": "stdout",
     "output_type": "stream",
     "text": [
      "Extended list is  [1, 2, 94, 36, 7, 1, 2, 43]\n",
      "List is cleared  []\n"
     ]
    }
   ],
   "source": [
    "#3. Write a program to extend and clear the list 1,2,94,36,7.\n",
    "\n",
    "numbers = [1,2,94,36,7]\n",
    "\n",
    "new_nums = [1,2,43]\n",
    "\n",
    "numbers.extend(new_nums)\n",
    "\n",
    "print(\"Extended list is \",numbers)\n",
    "\n",
    "numbers.clear()\n",
    "\n",
    "print(\"List is cleared \",numbers)"
   ]
  },
  {
   "cell_type": "code",
   "execution_count": null,
   "id": "f1668b68-2d9f-4455-9af4-cc4560fe124c",
   "metadata": {},
   "outputs": [],
   "source": []
  }
 ],
 "metadata": {
  "kernelspec": {
   "display_name": "Python 3 (ipykernel)",
   "language": "python",
   "name": "python3"
  },
  "language_info": {
   "codemirror_mode": {
    "name": "ipython",
    "version": 3
   },
   "file_extension": ".py",
   "mimetype": "text/x-python",
   "name": "python",
   "nbconvert_exporter": "python",
   "pygments_lexer": "ipython3",
   "version": "3.11.3"
  }
 },
 "nbformat": 4,
 "nbformat_minor": 5
}
