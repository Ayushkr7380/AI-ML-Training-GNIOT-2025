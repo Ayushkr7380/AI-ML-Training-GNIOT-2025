{
 "cells": [
  {
   "cell_type": "code",
   "execution_count": 3,
   "id": "5719796c-4374-4348-bd09-46574fa0900f",
   "metadata": {},
   "outputs": [],
   "source": [
    "#Common unsupervised approches..\n",
    "\n",
    "#1. Clustering :- \n",
    "#Clustering is the process of data mining techniques that groups unlabeled data based on their similarities and differences.\n",
    "#For eg. K-Means clustering,Hierarchial Clustering, DBSCAN.-\n",
    "\n",
    "#In K-Means (K is the no. of spears or groups)\n",
    "\n",
    "#2. Association :-\n",
    "#It is the rules based on the methods for finding relationships between variables in a given dataset.\n",
    "#For eg. isolation Forest,Local Outliner Factor.\n",
    "\n",
    "#3. Dimensionality reduction :-\n",
    "#It reduces the number of data inputs to the managable size while also preserving the intergrity of the dataset.\n",
    "#As such as PCA(Principle computation analysis) and t-distributed stochastic neighbor Embedding(t-SNE) are the common techniques for dimensionality reduction."
   ]
  },
  {
   "cell_type": "code",
   "execution_count": 4,
   "id": "afe6e192-c6b3-429b-afbb-bd2a5de633fe",
   "metadata": {},
   "outputs": [],
   "source": [
    "#unsupervised learning:-\n",
    "\n",
    "#In unsupervised learning there is no labelled data.\n",
    "#Clusters are hidden in the dataset.\n",
    "#Outliers are particularly unusual and are interseting in data points."
   ]
  },
  {
   "cell_type": "code",
   "execution_count": 5,
   "id": "adf2acb9-b07c-493f-89eb-ab6f06497066",
   "metadata": {},
   "outputs": [],
   "source": [
    "#Clustering :-\n",
    "#Clustering is the technique of finding the similar groups in data called clusters that is ..\n",
    "#it groups data instances that are similar to each other in one cluster and data instances are very different(Far away) from each other into different clusters.\n",
    "#Clustering is often known as unsupervised machine learning algorithm as no class values denoting an priority grouping of the data instance are given which is in the case of supervised learning.\n"
   ]
  },
  {
   "cell_type": "code",
   "execution_count": 6,
   "id": "56b7e981-d3ee-46b4-9a27-58922a1a4dbe",
   "metadata": {},
   "outputs": [],
   "source": [
    "#The distance of two cluster is defined as the minimum distance between an object(point) in one cluster and an object(point) in the other cluster.\n",
    "#The above method is also known as nearest neighbor method.\n",
    "\n",
    "#The end point of first cluster and the first point of and cluster."
   ]
  },
  {
   "cell_type": "code",
   "execution_count": null,
   "id": "8f411e1d-fb5f-4638-827e-a96eeebc19f2",
   "metadata": {},
   "outputs": [],
   "source": [
    "#Types of clustering:- \n",
    "\n",
    "#1. Exclusive clustering.\n",
    "\n",
    "#Data is grouped such that a single that point exclusive belongs to one cluster.\n",
    "\n",
    "#2. Overlapping clustering.\n",
    "\n",
    "#A soft cluster in which a single data point may belong to multiple clusters with varying degrees of membership.\n",
    "\n",
    "#3. Hierarchical clustering.\n",
    "\n",
    "#It is a type of clustering in which groups are created such that similar instances are within the same group and different objects are in other groups.\n",
    "\n",
    "#4. Probalistic clustering.\n",
    "\n",
    "#Clusters are created using probability distribution."
   ]
  }
 ],
 "metadata": {
  "kernelspec": {
   "display_name": "Python 3 (ipykernel)",
   "language": "python",
   "name": "python3"
  },
  "language_info": {
   "codemirror_mode": {
    "name": "ipython",
    "version": 3
   },
   "file_extension": ".py",
   "mimetype": "text/x-python",
   "name": "python",
   "nbconvert_exporter": "python",
   "pygments_lexer": "ipython3",
   "version": "3.11.3"
  }
 },
 "nbformat": 4,
 "nbformat_minor": 5
}
