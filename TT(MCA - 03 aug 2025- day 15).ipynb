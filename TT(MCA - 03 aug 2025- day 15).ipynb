{
 "cells": [
  {
   "cell_type": "code",
   "execution_count": 1,
   "id": "aa507028-c179-4540-a7b2-fb3625328780",
   "metadata": {},
   "outputs": [],
   "source": [
    "#NUMPY \n",
    "\n",
    "#Numpy :- Numpy is a library of python for numerical computing ad provides powerful tools and functionalities for working in large data set.\n",
    "\n",
    "#e.g :- data = { 1,2,3,4,5}\n",
    "\n",
    "#Numpy is used in many computations analysis and statistical anaylsis and data manipulation.\n",
    "#It is used in various fields like data sciences , machine learning and AI.\n",
    "# ** SCIPY ** (Scientific Python library) :- It is used for scientific calculation for python.\n",
    "\n",
    "#Why we use numpy??\n",
    "\n",
    "#We use numpy because it is speedy,memory efficient.\n",
    "#We perform optimized opertion on numpy which make it more easy to understand and it works upon complex AI algorithm and data analysis."
   ]
  },
  {
   "cell_type": "code",
   "execution_count": 2,
   "id": "99ec9217-0313-4619-a6ea-8db8e9dcac91",
   "metadata": {},
   "outputs": [],
   "source": [
    "import numpy as np"
   ]
  },
  {
   "cell_type": "code",
   "execution_count": 11,
   "id": "c9caf321-e430-468a-a45c-2b725697a484",
   "metadata": {},
   "outputs": [
    {
     "name": "stdout",
     "output_type": "stream",
     "text": [
      "Shape of arr_1d :  (5,)\n",
      "Shape of arr_2d :  (2,)\n",
      "Data_type of arr_1d :  int32\n",
      "Data_type of arr_2d :  int32\n"
     ]
    }
   ],
   "source": [
    "#Create array in numpy\n",
    "#using np.array()\n",
    "# Handling large dataset.\n",
    "\n",
    "arr_1d = np.array([1,2,3,4,5])\n",
    "arr_2d = np.array([1,2])\n",
    "\n",
    "\n",
    "#Shape of an array\n",
    "print(\"Shape of arr_1d : \",arr_1d.shape)\n",
    "print(\"Shape of arr_2d : \",arr_2d.shape)\n",
    "\n",
    "#Datatype of elements\n",
    "print(\"Data_type of arr_1d : \",arr_1d.dtype)\n",
    "print(\"Data_type of arr_2d : \",arr_2d.dtype)"
   ]
  },
  {
   "cell_type": "code",
   "execution_count": 6,
   "id": "17f88b52-3edc-49ab-89fd-0174323cdf40",
   "metadata": {},
   "outputs": [],
   "source": [
    "#Array operations \n",
    "\n",
    "#Arithemtic operations :- Addition(+) , subtractoin(-) , Multiplication(*),Division(/),Modular(%)\n",
    "#Element wise operation are done in array transformation.\n",
    "#Broadcasting : Automatic Alignment of array transformation.\n",
    "\n",
    "#Bit wise operation are not performed in numpy as it contains operations like OR, AND which is not in numeric form , but numPY only supports numeric operations."
   ]
  },
  {
   "cell_type": "code",
   "execution_count": 8,
   "id": "39202fa9-9235-4c27-a85b-6bc61ce417fd",
   "metadata": {},
   "outputs": [
    {
     "name": "stdout",
     "output_type": "stream",
     "text": [
      "Result of addition in arr_1d :  [11 12 13 14 15]\n",
      "Result of addition in arr_2d :  [6 7]\n",
      "Result of multiplication  in arr_1d :  [ 3  6  9 12 15]\n"
     ]
    }
   ],
   "source": [
    "arr_1d = np.array([1,2,3,4,5])\n",
    "arr_2d = np.array([1,2])\n",
    "\n",
    "#Element wise addition\n",
    "result1 = arr_1d + 10\n",
    "\n",
    "result2 = arr_2d + 5\n",
    "print(\"Result of addition in arr_1d : \",result1)\n",
    "print(\"Result of addition in arr_2d : \",result2)\n",
    "\n",
    "#Element wise multiplication\n",
    "\n",
    "result3 = arr_1d * 3\n",
    "print(\"Result of multiplication  in arr_1d : \",result3)"
   ]
  },
  {
   "cell_type": "code",
   "execution_count": 12,
   "id": "fa97c7b7-2617-4478-a2fc-3daecb20fca8",
   "metadata": {},
   "outputs": [],
   "source": [
    "#Array indexing and slicing\n",
    "\n",
    "#It is used for accessing individula elements via indexing.\n",
    "# Slicing :- It is extraction of subarray for analysis.\n"
   ]
  },
  {
   "cell_type": "code",
   "execution_count": 16,
   "id": "5a0fe0e6-762f-4e17-ac8a-0acaa84eb8f4",
   "metadata": {},
   "outputs": [
    {
     "name": "stdout",
     "output_type": "stream",
     "text": [
      "\n",
      " A sequential array with negative stop : \n",
      " [10  8  6  4  2]\n",
      "\n",
      " Elements at these indices are : \n",
      " [4 8 6]\n"
     ]
    }
   ],
   "source": [
    "#Make sequence of intergers from 10 to 1 with a step of -2\n",
    "\n",
    "a = np.arange(10,1,-2) #Slicing\n",
    "print(\"\\n A sequential array with negative stop : \\n\",a)\n",
    "\n",
    "#Index are specified inside np.array method\n",
    "\n",
    "newarr = a[np.array([3,1,2])]\n",
    "print(\"\\n Elements at these indices are : \\n\",newarr)"
   ]
  },
  {
   "cell_type": "code",
   "execution_count": 18,
   "id": "e3639938-f1bd-4a60-a634-66ce06f9e77c",
   "metadata": {},
   "outputs": [],
   "source": [
    "#Array manipulation\n",
    "\n",
    "#Reshaping Array : Transforming Dimensions\n",
    "#Stacking : Combining arrays vertically or horizontally.\n",
    "#Splitting : Dividig arrays into smaller parts."
   ]
  },
  {
   "cell_type": "code",
   "execution_count": 21,
   "id": "e1e079ef-da4b-4f69-b176-3baeb95d7660",
   "metadata": {},
   "outputs": [
    {
     "name": "stdout",
     "output_type": "stream",
     "text": [
      "[[1 2 3 4 5]\n",
      " [6 7 8 9 5]]\n"
     ]
    }
   ],
   "source": [
    "array1 = np.array([1,2,3,4,5,6,7,8,9,5])\n",
    "\n",
    "#Reshaping a 1d array into 2d array\n",
    "\n",
    "#With 2 rows and 5 columns\n",
    "\n",
    "result = np.reshape(array1,(2,5))\n",
    "print(result)"
   ]
  },
  {
   "cell_type": "code",
   "execution_count": 24,
   "id": "8cb82bbe-122f-4924-8de2-1e1530ea6c4b",
   "metadata": {},
   "outputs": [
    {
     "name": "stdout",
     "output_type": "stream",
     "text": [
      "[[ 0  1]\n",
      " [45 67]\n",
      " [23  4]\n",
      " [56  9]]\n"
     ]
    }
   ],
   "source": [
    "#Concatenation of arrays\n",
    "\n",
    "ar1 = np.array([[0,1],[45,67]])\n",
    "ar2 = np.array([[23,4],[56,9]])\n",
    "\n",
    "#Join the arrays\n",
    "concat_arr = np.concatenate((ar1,ar2))\n",
    "print(concat_arr)"
   ]
  },
  {
   "cell_type": "code",
   "execution_count": null,
   "id": "236e7d90-2a94-4a25-a0df-b3ae1da8f763",
   "metadata": {},
   "outputs": [],
   "source": []
  }
 ],
 "metadata": {
  "kernelspec": {
   "display_name": "Python 3 (ipykernel)",
   "language": "python",
   "name": "python3"
  },
  "language_info": {
   "codemirror_mode": {
    "name": "ipython",
    "version": 3
   },
   "file_extension": ".py",
   "mimetype": "text/x-python",
   "name": "python",
   "nbconvert_exporter": "python",
   "pygments_lexer": "ipython3",
   "version": "3.11.3"
  }
 },
 "nbformat": 4,
 "nbformat_minor": 5
}
