{
 "cells": [
  {
   "cell_type": "code",
   "execution_count": 1,
   "id": "0649e5ff-a0c6-4d0a-bbb6-f9b7d8b2c166",
   "metadata": {},
   "outputs": [],
   "source": [
    "c = 1"
   ]
  },
  {
   "cell_type": "code",
   "execution_count": 2,
   "id": "d5e8f325-31ee-487c-9acf-19398eaa72aa",
   "metadata": {},
   "outputs": [
    {
     "ename": "SyntaxError",
     "evalue": "invalid syntax (530238061.py, line 1)",
     "output_type": "error",
     "traceback": [
      "\u001b[1;36m  Cell \u001b[1;32mIn[2], line 1\u001b[1;36m\u001b[0m\n\u001b[1;33m    c++\u001b[0m\n\u001b[1;37m       ^\u001b[0m\n\u001b[1;31mSyntaxError\u001b[0m\u001b[1;31m:\u001b[0m invalid syntax\n"
     ]
    }
   ],
   "source": [
    "c++"
   ]
  },
  {
   "cell_type": "code",
   "execution_count": 3,
   "id": "58b14813-a49f-4ee8-b649-6422759b3ec7",
   "metadata": {},
   "outputs": [],
   "source": [
    "c = c + 1"
   ]
  },
  {
   "cell_type": "code",
   "execution_count": 4,
   "id": "d9c71609-97a1-4799-8d4a-d40a8e43d398",
   "metadata": {},
   "outputs": [
    {
     "name": "stdout",
     "output_type": "stream",
     "text": [
      "2\n"
     ]
    }
   ],
   "source": [
    "print(c)"
   ]
  },
  {
   "cell_type": "code",
   "execution_count": 10,
   "id": "fdd7b756-021a-4714-8422-fe9936aad0d9",
   "metadata": {},
   "outputs": [
    {
     "name": "stdin",
     "output_type": "stream",
     "text": [
      "Enter a number :  12\n"
     ]
    },
    {
     "name": "stdout",
     "output_type": "stream",
     "text": [
      "Hi, 12\n"
     ]
    },
    {
     "data": {
      "text/plain": [
       "str"
      ]
     },
     "execution_count": 10,
     "metadata": {},
     "output_type": "execute_result"
    }
   ],
   "source": [
    "num = input(\"Enter a number : \")\n",
    "print(\"Hi,\",num)\n",
    "type(num)"
   ]
  },
  {
   "cell_type": "code",
   "execution_count": 14,
   "id": "3aeb7353-6130-4c68-a23b-e070749e3ea5",
   "metadata": {},
   "outputs": [
    {
     "name": "stdin",
     "output_type": "stream",
     "text": [
      "Enter your age :  12\n"
     ]
    },
    {
     "name": "stdout",
     "output_type": "stream",
     "text": [
      "You are not eligible for vote.\n"
     ]
    }
   ],
   "source": [
    "age = int(input(\"Enter your age : \"))\n",
    "if age >= 18:\n",
    "    print(\"You are eligible for vote.\")\n",
    "else:\n",
    "    print(\"You are not eligible for vote.\")"
   ]
  },
  {
   "cell_type": "code",
   "execution_count": 21,
   "id": "ba6af16b-3332-4aa7-8a50-bb3d0351d22e",
   "metadata": {},
   "outputs": [
    {
     "name": "stdin",
     "output_type": "stream",
     "text": [
      "Enter your marks :  90\n"
     ]
    },
    {
     "name": "stdout",
     "output_type": "stream",
     "text": [
      "You got grade A.\n"
     ]
    }
   ],
   "source": [
    "marks = int(input(\"Enter your marks : \"))\n",
    "if(marks >= 70):\n",
    "    print(\"You got grade A.\")\n",
    "elif(marks == 0 ):\n",
    "    print(\"You Scored zero\")\n",
    "else:\n",
    "    print(\"You failed.\")\n",
    "                  "
   ]
  },
  {
   "cell_type": "code",
   "execution_count": 22,
   "id": "eaa19421-106b-4e7b-b96f-e744d249bb0d",
   "metadata": {},
   "outputs": [
    {
     "name": "stdout",
     "output_type": "stream",
     "text": [
      "Number :  1\n",
      "Number :  2\n",
      "Number :  3\n",
      "Number :  4\n",
      "Number :  5\n"
     ]
    }
   ],
   "source": [
    "for i in range(1,6):\n",
    "    print(\"Number : \",i)"
   ]
  },
  {
   "cell_type": "code",
   "execution_count": 23,
   "id": "09de6b92-1d74-417d-9f6d-6e2ac4c78037",
   "metadata": {},
   "outputs": [
    {
     "name": "stdout",
     "output_type": "stream",
     "text": [
      "2\n",
      "3\n",
      "4\n",
      "5\n",
      "6\n"
     ]
    }
   ],
   "source": [
    "for i in range(1,6):\n",
    "    print(i+1)"
   ]
  },
  {
   "cell_type": "code",
   "execution_count": 24,
   "id": "eaea6f9f-ef1c-4456-88cf-fddce241e06b",
   "metadata": {},
   "outputs": [],
   "source": [
    "list1 = [\"students\",\"teachers\",5,1.2]"
   ]
  },
  {
   "cell_type": "code",
   "execution_count": 25,
   "id": "6e640cd6-d086-4bd4-b279-9c017306cf91",
   "metadata": {},
   "outputs": [
    {
     "name": "stdout",
     "output_type": "stream",
     "text": [
      "students\n",
      "teachers\n",
      "5\n",
      "1.2\n"
     ]
    }
   ],
   "source": [
    "for i in list1:\n",
    "    print(i)"
   ]
  },
  {
   "cell_type": "code",
   "execution_count": 26,
   "id": "c646ebe9-3539-4ce1-a9e6-aa67c11fda34",
   "metadata": {},
   "outputs": [
    {
     "name": "stdout",
     "output_type": "stream",
     "text": [
      "apple\n",
      "banana\n",
      "mango\n"
     ]
    }
   ],
   "source": [
    "fruits = [\"apple\",\"banana\",\"mango\"]\n",
    "for fruit in fruits:\n",
    "    print(fruit)"
   ]
  },
  {
   "cell_type": "code",
   "execution_count": 27,
   "id": "584a1bb9-f768-4283-ae23-c2c52fe53573",
   "metadata": {},
   "outputs": [
    {
     "name": "stdout",
     "output_type": "stream",
     "text": [
      "['c', 'python', 'c++']\n",
      "['c', 'python', 'c++']\n",
      "['c', 'python', 'c++']\n"
     ]
    }
   ],
   "source": [
    "skills = [\"c\",\"python\",\"c++\"]\n",
    "for i in skills:\n",
    "    print(skills)"
   ]
  },
  {
   "cell_type": "code",
   "execution_count": 33,
   "id": "47a7722e-78e7-4b71-95fd-902b8b9c6d60",
   "metadata": {},
   "outputs": [
    {
     "name": "stdin",
     "output_type": "stream",
     "text": [
      "Enter 1st number :  12\n",
      "Enter 2nd number :  2\n",
      "Enter your choice (+,-,*,\\) :  /\n"
     ]
    },
    {
     "name": "stdout",
     "output_type": "stream",
     "text": [
      "Division of  12  and  2  is  6.0\n"
     ]
    }
   ],
   "source": [
    "num1 = int(input(\"Enter 1st number : \"))\n",
    "num2 = int(input(\"Enter 2nd number : \"))\n",
    "choice = input(\"Enter your choice (+,-,*,\\) : \")\n",
    "if(choice == \"+\"):\n",
    "    print(\"Sum of \",num1,\" and \",num2,\" is \",num1+num2)\n",
    "elif(choice == \"-\"):\n",
    "    print(\"Sub of \",num1,\" and \",num2,\" is \",num1-num2)\n",
    "elif(choice == \"*\"):\n",
    "    print(\"Multiplication of \",num1,\" and \",num2,\" is \",num1*num2)\n",
    "elif(choice == \"/\"):\n",
    "     print(\"Division of \",num1,\" and \",num2,\" is \",num1/num2)\n",
    "else:\n",
    "    print(\"Please Enter valid operator.\")\n",
    "    \n",
    "    \n",
    "               "
   ]
  },
  {
   "cell_type": "code",
   "execution_count": 37,
   "id": "93c5479e-1ab4-480f-91bb-47b847888ce5",
   "metadata": {},
   "outputs": [
    {
     "name": "stdin",
     "output_type": "stream",
     "text": [
      "Enter any number :  12\n"
     ]
    },
    {
     "name": "stdout",
     "output_type": "stream",
     "text": [
      "12 * 1 = 12\n",
      "12 * 2 = 24\n",
      "12 * 3 = 36\n",
      "12 * 4 = 48\n",
      "12 * 5 = 60\n",
      "12 * 6 = 72\n",
      "12 * 7 = 84\n",
      "12 * 8 = 96\n",
      "12 * 9 = 108\n",
      "12 * 10 = 120\n"
     ]
    }
   ],
   "source": [
    "n = int(input(\"Enter any number : \"))\n",
    "for i in range(1,11):\n",
    "        print(n,\"*\",i,\"=\",n*i)"
   ]
  },
  {
   "cell_type": "code",
   "execution_count": 2,
   "id": "cfe0d8bb-654f-4c53-987f-9e104b4aa828",
   "metadata": {},
   "outputs": [],
   "source": [
    "# HomeWork question\n",
    "# 1.Enter a number and check if it is positive or negative.\n",
    "# 2.Enter a number and print its square.\n",
    "# 3.Print number from 1 to 5 using for loop.\n",
    "# 4.Take two number and swap their values.\n",
    "# 5.Find the area of rectangle."
   ]
  },
  {
   "cell_type": "code",
   "execution_count": 7,
   "id": "912fccb3-74aa-45ae-9a3f-1d859b1e5afe",
   "metadata": {},
   "outputs": [
    {
     "name": "stdin",
     "output_type": "stream",
     "text": [
      "Enter any number :  -1\n"
     ]
    },
    {
     "name": "stdout",
     "output_type": "stream",
     "text": [
      "-1  is a negative number.\n"
     ]
    }
   ],
   "source": [
    "# 1.Enter a number and check if it is positive or negative.\n",
    "num1 = int(input(\"Enter any number : \"))\n",
    "if(num1 >= 0):\n",
    "    print(num1,\" is a positive number.\")\n",
    "else:\n",
    "    print(num1,\" is a negative number.\")"
   ]
  },
  {
   "cell_type": "code",
   "execution_count": 12,
   "id": "01f285cd-1e96-4348-ab33-682dbf3f1455",
   "metadata": {},
   "outputs": [
    {
     "name": "stdin",
     "output_type": "stream",
     "text": [
      "Enter any number :  3\n"
     ]
    },
    {
     "name": "stdout",
     "output_type": "stream",
     "text": [
      "Square of  3  is  9\n"
     ]
    }
   ],
   "source": [
    "# 2.Enter a number and print its square.\n",
    "num2 = int(input(\"Enter any number : \"))\n",
    "print(\"Square of \",num2,\" is \",num2*num2)"
   ]
  },
  {
   "cell_type": "code",
   "execution_count": 13,
   "id": "47d90ac5-a10b-4976-8349-6697d8762d25",
   "metadata": {},
   "outputs": [
    {
     "name": "stdout",
     "output_type": "stream",
     "text": [
      "1\n",
      "2\n",
      "3\n",
      "4\n",
      "5\n"
     ]
    }
   ],
   "source": [
    "# 3.Print number from 1 to 5 using for loop.\n",
    "for i in range(1,6):\n",
    "    print(i)"
   ]
  },
  {
   "cell_type": "code",
   "execution_count": 16,
   "id": "f44b3641-a591-4ca6-b65f-15a32707292c",
   "metadata": {},
   "outputs": [
    {
     "name": "stdout",
     "output_type": "stream",
     "text": [
      "Before swapping --> n1 =  10  and n2 =  20\n",
      "After swapping --> n1 =  20  and n2 =  10\n"
     ]
    }
   ],
   "source": [
    "# 4.Take two number and swap their values.\n",
    "n1 = 10\n",
    "n2 = 20\n",
    "print(\"Before swapping --> n1 = \",n1,\" and n2 = \",n2)\n",
    "\n",
    "#Swap logic\n",
    "n1 = n1 + n2\n",
    "n2 = n1 - n2\n",
    "n1 = n1 - n2\n",
    "\n",
    "print(\"After swapping --> n1 = \",n1,\" and n2 = \",n2)\n"
   ]
  },
  {
   "cell_type": "code",
   "execution_count": 17,
   "id": "832d6773-4468-4b2f-b307-a9c948dd799d",
   "metadata": {},
   "outputs": [
    {
     "name": "stdin",
     "output_type": "stream",
     "text": [
      "Enter length :  2\n",
      "Enter breadth :  3\n"
     ]
    },
    {
     "name": "stdout",
     "output_type": "stream",
     "text": [
      "Area of reactangle is  6\n"
     ]
    }
   ],
   "source": [
    "# 5.Find the area of rectangle.\n",
    "length = int(input(\"Enter length : \"))\n",
    "breadth = int(input(\"Enter breadth : \"))\n",
    "\n",
    "area = length * breadth\n",
    "print(\"Area of reactangle is \",area)"
   ]
  },
  {
   "cell_type": "code",
   "execution_count": null,
   "id": "ed3062cf-79cc-4cd1-a228-d122acb35663",
   "metadata": {},
   "outputs": [],
   "source": []
  }
 ],
 "metadata": {
  "kernelspec": {
   "display_name": "Python 3 (ipykernel)",
   "language": "python",
   "name": "python3"
  },
  "language_info": {
   "codemirror_mode": {
    "name": "ipython",
    "version": 3
   },
   "file_extension": ".py",
   "mimetype": "text/x-python",
   "name": "python",
   "nbconvert_exporter": "python",
   "pygments_lexer": "ipython3",
   "version": "3.11.3"
  }
 },
 "nbformat": 4,
 "nbformat_minor": 5
}
