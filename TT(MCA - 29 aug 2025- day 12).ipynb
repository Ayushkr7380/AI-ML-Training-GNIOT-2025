{
 "cells": [
  {
   "cell_type": "code",
   "execution_count": 1,
   "id": "2cee77b9-4f28-4eac-af7d-6cf2608ef394",
   "metadata": {},
   "outputs": [],
   "source": [
    "# 1. Write a program to swap two variable without using third variable.\n",
    "# 2. Write a program to take user name and age as input and print them.\n",
    "# 3. Convert string 123 into an interger and a float value.\n",
    "# 4. Write a program to find the largest of the three number using if else.\n",
    "# 5. Write a program to find the sum of digit of a number.\n",
    "# 6. WAP to print fibonacci series upto 10 terms.\n",
    "# 7. WAp to calculate factorial of a number."
   ]
  },
  {
   "cell_type": "code",
   "execution_count": 2,
   "id": "cde69836-4cc7-4443-b843-06f95d7f6b3d",
   "metadata": {},
   "outputs": [
    {
     "name": "stdout",
     "output_type": "stream",
     "text": [
      "Before Swapping : N1 =  10  and N2 =  20\n",
      "After Swapping : N1 =  20  and N2 =  10\n"
     ]
    }
   ],
   "source": [
    "# 1. Write a program to swap two variable without using third variable.\n",
    "\n",
    "n1 = 10\n",
    "n2 = 20\n",
    "\n",
    "print(\"Before Swapping : N1 = \",n1,\" and N2 = \",n2)\n",
    "\n",
    "#swap logic\n",
    "n1 = n1 + n2\n",
    "n2 = n1 - n2\n",
    "n1 = n1 - n2\n",
    "\n",
    "print(\"After Swapping : N1 = \",n1,\" and N2 = \",n2)"
   ]
  },
  {
   "cell_type": "code",
   "execution_count": 3,
   "id": "15980838-d1db-4a2b-a04f-acf2b02d534f",
   "metadata": {},
   "outputs": [
    {
     "name": "stdin",
     "output_type": "stream",
     "text": [
      "Enter your name :  Ayush\n",
      "Enter your age :  12\n"
     ]
    },
    {
     "name": "stdout",
     "output_type": "stream",
     "text": [
      "Name ->  Ayush\n",
      "Age ->  12\n"
     ]
    }
   ],
   "source": [
    "# 2. Write a program to take user name and age as input and print them.\n",
    "\n",
    "name = input(\"Enter your name : \")\n",
    "age = int(input(\"Enter your age : \"))\n",
    "\n",
    "print(\"Name -> \",name)\n",
    "print(\"Age -> \",age)"
   ]
  },
  {
   "cell_type": "code",
   "execution_count": 6,
   "id": "3a793f66-e705-442f-84f3-0aca1378adcc",
   "metadata": {},
   "outputs": [
    {
     "name": "stdout",
     "output_type": "stream",
     "text": [
      "123\n",
      "123.0\n"
     ]
    }
   ],
   "source": [
    "# 3. Convert string 123 into an interger and a float value.\n",
    "\n",
    "str1 = \"123\"\n",
    "\n",
    "int1 = int(str1)\n",
    "print(int1)\n",
    "\n",
    "f1 = float(str1)\n",
    "print(f1)"
   ]
  },
  {
   "cell_type": "code",
   "execution_count": 13,
   "id": "dcad93e4-d734-49bb-8bf1-f9635bc3995b",
   "metadata": {},
   "outputs": [
    {
     "name": "stdout",
     "output_type": "stream",
     "text": [
      "50  is greatest.\n"
     ]
    }
   ],
   "source": [
    "# 4. Write a program to find the largest of the three number using if else.\n",
    "\n",
    "n1 = 4\n",
    "n2 = 40\n",
    "n3 = 50\n",
    "\n",
    "if(n1>=n2):\n",
    "    if(n1>=n3):\n",
    "        print(n1,\" is greatest.\")\n",
    "    else:\n",
    "        print(n3,\" is greatest.\")\n",
    "else:\n",
    "    if(n2>=n3):\n",
    "        print(n2,\" is greatest.\")\n",
    "    else:\n",
    "        print(n3,\" is greatest.\")"
   ]
  },
  {
   "cell_type": "code",
   "execution_count": 59,
   "id": "0238570a-d99a-46de-b003-fcb8f9b53ad5",
   "metadata": {},
   "outputs": [
    {
     "name": "stdout",
     "output_type": "stream",
     "text": [
      "15\n"
     ]
    }
   ],
   "source": [
    "# 5. Write a program to find the sum of digit of a number.\n",
    "\n",
    "num = 12345\n",
    "\n",
    "sum = 0\n",
    "\n",
    "for i in range(len(str(num))):\n",
    "    digit = num % 10\n",
    "    sum += digit\n",
    "    num //= 10\n",
    "\n",
    "print(sum)\n",
    "\n"
   ]
  },
  {
   "cell_type": "code",
   "execution_count": 43,
   "id": "7b04812e-d960-4d95-8f48-7aa97c4400d1",
   "metadata": {},
   "outputs": [
    {
     "name": "stdout",
     "output_type": "stream",
     "text": [
      "Fibonacci series:\n",
      "0 1 1 2 3 5 8 13 21 34 "
     ]
    }
   ],
   "source": [
    "# 6. WAP to print fibonacci series upto 10 terms.\n",
    "\n",
    "n = 10\n",
    "a,b = 0,1\n",
    "print(\"Fibonacci series:\")\n",
    "for i in range(n):\n",
    "    print(a,end=\" \")\n",
    "    a,b=b,a+b"
   ]
  },
  {
   "cell_type": "code",
   "execution_count": 55,
   "id": "86c1de3f-d41f-4256-98fe-03775a3aa380",
   "metadata": {},
   "outputs": [
    {
     "name": "stdout",
     "output_type": "stream",
     "text": [
      "24\n"
     ]
    }
   ],
   "source": [
    "# 7. WAp to calculate factorial of a number.\n",
    "\n",
    "# num = 0\n",
    "# fact = 1\n",
    "# for i in range(1,num+1):\n",
    "#     fact = i * fact\n",
    "# print(fact)\n",
    "\n",
    "def factorial(n):\n",
    "    if n == 0 or n == 1:\n",
    "        return 1\n",
    "    else:\n",
    "        return n * factorial(n-1)\n",
    "\n",
    "print(factorial(4))"
   ]
  },
  {
   "cell_type": "code",
   "execution_count": 63,
   "id": "1f2e2099-d1ad-452c-be26-a1a8ea2ca5a4",
   "metadata": {},
   "outputs": [
    {
     "name": "stdout",
     "output_type": "stream",
     "text": [
      "Square of  4  is  16\n",
      "Cube of  4  is  64\n"
     ]
    }
   ],
   "source": [
    "n = 4\n",
    "print(\"Square of \",n,\" is \",square(n))\n",
    "print(\"Cube of \",n,\" is \",cube(n))\n",
    "\n",
    "def square(n):\n",
    "    if(n == 0):\n",
    "        return 0\n",
    "    if( n == 1):\n",
    "        return 1\n",
    "    return n*n\n",
    "def cube(n):\n",
    "    if(n == 0):\n",
    "        return 0\n",
    "    if(n == 1):\n",
    "        return 1\n",
    "    return n*n*n"
   ]
  },
  {
   "cell_type": "code",
   "execution_count": null,
   "id": "fe62b1a0-0fd6-48e1-bd80-acdb347c92ed",
   "metadata": {},
   "outputs": [],
   "source": []
  }
 ],
 "metadata": {
  "kernelspec": {
   "display_name": "Python 3 (ipykernel)",
   "language": "python",
   "name": "python3"
  },
  "language_info": {
   "codemirror_mode": {
    "name": "ipython",
    "version": 3
   },
   "file_extension": ".py",
   "mimetype": "text/x-python",
   "name": "python",
   "nbconvert_exporter": "python",
   "pygments_lexer": "ipython3",
   "version": "3.11.3"
  }
 },
 "nbformat": 4,
 "nbformat_minor": 5
}
