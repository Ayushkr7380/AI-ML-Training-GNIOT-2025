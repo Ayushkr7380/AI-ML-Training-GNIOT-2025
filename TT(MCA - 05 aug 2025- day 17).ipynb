{
 "cells": [
  {
   "cell_type": "code",
   "execution_count": 2,
   "id": "2da99539-de3c-48d6-a6e9-f5b912f272b4",
   "metadata": {},
   "outputs": [],
   "source": [
    "#Broadcasting\n",
    "\n",
    "#Automatic alignment of an array."
   ]
  },
  {
   "cell_type": "code",
   "execution_count": 3,
   "id": "85fa821d-cb8b-4d06-aa7e-7440092034f9",
   "metadata": {},
   "outputs": [],
   "source": [
    "import numpy as np"
   ]
  },
  {
   "cell_type": "code",
   "execution_count": 4,
   "id": "dd49b88b-86b1-49f1-af51-b6c810e79e60",
   "metadata": {},
   "outputs": [
    {
     "name": "stdout",
     "output_type": "stream",
     "text": [
      "Broadcasted result :  [11 12 13]\n"
     ]
    }
   ],
   "source": [
    "n1 = np.array([1,2,3])\n",
    "\n",
    "scalar = 10\n",
    "\n",
    "result = n1 + scalar\n",
    "\n",
    "print(\"Broadcasted result : \",result)"
   ]
  },
  {
   "cell_type": "code",
   "execution_count": 6,
   "id": "940231b7-4efa-4ce0-a524-19384c384030",
   "metadata": {},
   "outputs": [
    {
     "name": "stdout",
     "output_type": "stream",
     "text": [
      "Broadcasted result :  [[46  8 10]\n",
      " [50 14 16]]\n"
     ]
    }
   ],
   "source": [
    "#Add two array using broadcasting\n",
    "\n",
    "n1 = np.array([[1,2,3],[5,8,9]])\n",
    "n2 = np.array([45,6,7])\n",
    "\n",
    "result = n1 + n2\n",
    "\n",
    "print(\"Broadcasted result : \",result)"
   ]
  },
  {
   "cell_type": "code",
   "execution_count": 15,
   "id": "ffa15438-2bcd-487f-8bcc-f476a756dd1e",
   "metadata": {},
   "outputs": [
    {
     "name": "stdout",
     "output_type": "stream",
     "text": [
      "Random samples :  [0.64887508 0.50772587 0.41230662 0.3593918  0.72519349]\n",
      "Random float 2d array :  [[0.45443343 0.88038775 0.22749821]\n",
      " [0.06270726 0.28423559 0.9147584 ]\n",
      " [0.02565917 0.60190354 0.29111525]]\n",
      "Random int array :  9\n",
      "Five Random int array  :  [7 5 4 3 4]\n",
      "2d Random int array  :  [[2 7 9]\n",
      " [7 4 9]\n",
      " [5 1 4]]\n"
     ]
    }
   ],
   "source": [
    "#Random sampling with numpy..\n",
    "\n",
    "#Random sampling is the process of generating random numbers with specified distribution like random sampling from arrays.\n",
    "#It is majorily used in statistical analysis and simulation.\n",
    "\n",
    "sample_float = np.random.rand(5) #float number between 0 to 1.\n",
    "print(\"Random samples : \",sample_float)\n",
    "\n",
    "sample_float_2d = np.random.rand(3,3) #random 2d array for size (3X3).\n",
    "print(\"Random float 2d array : \",sample_float_2d)\n",
    "\n",
    "sample_int = np.random.randint(1,10) #integer number between 1 to 10.\n",
    "print(\"Random int array : \",sample_int)\n",
    "\n",
    "sample_int_size = np.random.randint(1,10,size = 5) # five integer number between 1 to 10.\n",
    "print(\"Five Random int array  : \",sample_int_size)\n",
    "\n",
    "sample_int_2d = np.random.randint(1,10,size = (3,3)) # (3X3) integer aaray number between 1 to 10.\n",
    "print(\"2d Random int array  : \",sample_int_2d)\n"
   ]
  },
  {
   "cell_type": "code",
   "execution_count": 20,
   "id": "d9a69894-b20b-4cb3-982a-334004ea3a0b",
   "metadata": {},
   "outputs": [
    {
     "name": "stdout",
     "output_type": "stream",
     "text": [
      "Normal distribution samples : \n",
      "[ 0.11786103  0.25368061  0.47074015 -1.27876562  0.8874617 ]\n"
     ]
    }
   ],
   "source": [
    "#Generate random samples from a normal distribution\n",
    "mean = 0\n",
    "std_dev = 1\n",
    "normal_samples = np.random.normal(mean,std_dev,5)\n",
    "\n",
    "#Print the generated samples\n",
    "print(\"Normal distribution samples : \")\n",
    "print(normal_samples)"
   ]
  },
  {
   "cell_type": "code",
   "execution_count": 30,
   "id": "aec925cc-faa3-4116-961e-39bdf66cc8f2",
   "metadata": {},
   "outputs": [
    {
     "name": "stdout",
     "output_type": "stream",
     "text": [
      "Normal data : \n",
      "[[1 2]\n",
      " [3 4]\n",
      " [5 6]]\n",
      "Shuffled data : \n",
      "[[3 4]\n",
      " [1 2]\n",
      " [5 6]]\n"
     ]
    }
   ],
   "source": [
    "#Example of random sampling for data augmentation\n",
    "\n",
    "data = np.array([[1,2],[3,4],[5,6]])\n",
    "\n",
    "print(\"Normal data : \")\n",
    "print(data)\n",
    "#Random shuffle the rows\n",
    "np.random.shuffle(data)\n",
    "\n",
    "#Print the shuffled data\n",
    "print(\"Shuffled data : \")\n",
    "print(data)"
   ]
  },
  {
   "cell_type": "code",
   "execution_count": 31,
   "id": "e7938944-f320-4d21-a109-9940ff826daf",
   "metadata": {},
   "outputs": [],
   "source": [
    "#Vectorization in numpy..\n",
    "\n",
    "#It is the process of improving performance with vectorized operations.\n",
    "#It avoids loops for enhanced speed because loops can cause memory mismanagement.\n",
    "#It benchmarks numpy performance against pure python code."
   ]
  },
  {
   "cell_type": "code",
   "execution_count": 33,
   "id": "45a87095-ce5d-4947-b152-081e0c6af48d",
   "metadata": {},
   "outputs": [
    {
     "name": "stdout",
     "output_type": "stream",
     "text": [
      "Normal :  [6, 8, 81, 12]\n",
      "Vectorized :  [ 6  8 81 12]\n"
     ]
    }
   ],
   "source": [
    "#Traditional approach without vectorization\n",
    "def add_arrays(arr1,arr2):\n",
    "    result=[]\n",
    "    for i in range(len(arr1)):\n",
    "        result.append(arr1[i]+arr2[i])\n",
    "    return result\n",
    "\n",
    "#Vectorized approch using NumPy\n",
    "def add_arrays_vectorized(arr1,arr2):\n",
    "    return np.add(arr1,arr2)\n",
    "\n",
    "arr1 = [1,2,3,4]\n",
    "arr2 = [5,6,78,8]\n",
    "\n",
    "print(\"Normal : \",add_arrays(arr1,arr2))\n",
    "print(\"Vectorized : \",add_arrays_vectorized(arr1,arr2))"
   ]
  },
  {
   "cell_type": "code",
   "execution_count": 36,
   "id": "390f56d6-f3c1-4394-98f9-d03dd75bc64c",
   "metadata": {},
   "outputs": [
    {
     "name": "stdout",
     "output_type": "stream",
     "text": [
      "51.1 ms ± 1.33 ms per loop (mean ± std. dev. of 7 runs, 10 loops each)\n",
      "103 μs ± 1.62 μs per loop (mean ± std. dev. of 7 runs, 10,000 loops each)\n",
      "Traditional Approch Time :  51.1 ms ± 1.33 ms per loop (mean ± std. dev. of 7 runs, 10 loops each)\n",
      "Vectorized Approch Time :  103 μs ± 1.62 μs per loop (mean ± std. dev. of 7 runs, 10,000 loops each)\n"
     ]
    }
   ],
   "source": [
    "#Genrate two arrays for demonstration\n",
    "\n",
    "arr1 = np.random.rand(100000)\n",
    "arr2 = np.random.rand(100000)\n",
    "\n",
    "#Time traditional approach\n",
    "traditional_time = %timeit -o add_arrays(arr1,arr2)\n",
    "\n",
    "#Time vectorized approch\n",
    "vectorized_time = %timeit -o add_arrays_vectorized(arr1,arr2)\n",
    "\n",
    "print(\"Traditional Approch Time : \",traditional_time)\n",
    "print(\"Vectorized Approch Time : \",vectorized_time)"
   ]
  },
  {
   "cell_type": "code",
   "execution_count": null,
   "id": "51678d23-52e8-4d95-a4fb-13e4b10bf8ac",
   "metadata": {},
   "outputs": [],
   "source": []
  }
 ],
 "metadata": {
  "kernelspec": {
   "display_name": "Python 3 (ipykernel)",
   "language": "python",
   "name": "python3"
  },
  "language_info": {
   "codemirror_mode": {
    "name": "ipython",
    "version": 3
   },
   "file_extension": ".py",
   "mimetype": "text/x-python",
   "name": "python",
   "nbconvert_exporter": "python",
   "pygments_lexer": "ipython3",
   "version": "3.11.3"
  }
 },
 "nbformat": 4,
 "nbformat_minor": 5
}
