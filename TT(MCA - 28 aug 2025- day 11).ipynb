{
 "cells": [
  {
   "cell_type": "code",
   "execution_count": 1,
   "id": "50a24caf-42fb-4a66-9214-43dd1213b06e",
   "metadata": {},
   "outputs": [],
   "source": [
    "#pandas\n",
    "\n",
    "#PANDAS IS A POWERFUL LIBRAY OF PYTHON IN WHICH YOU CAN MANIPULTE AND ANALYSE THE DATA.\n",
    "#IT TYPICALLY WORKS UPON SERIES AND DATA FRAMES."
   ]
  },
  {
   "cell_type": "code",
   "execution_count": 2,
   "id": "a9d8306c-5455-4f98-9aaa-6590154c6d96",
   "metadata": {},
   "outputs": [],
   "source": [
    "#Series and data frames\n",
    "\n",
    "#Dataframes :-\n",
    "#It is used to organise and anlayse the data collection gathered by any device.\n",
    "\n",
    "#Series :- \n",
    "#It is used in pre processing of data.\n"
   ]
  },
  {
   "cell_type": "code",
   "execution_count": 3,
   "id": "2caddfcb-1fbf-4f49-af9b-fffe9b4da6e6",
   "metadata": {},
   "outputs": [],
   "source": [
    "import pandas as pd"
   ]
  },
  {
   "cell_type": "code",
   "execution_count": 17,
   "id": "f93bb9ac-eb0f-42d5-a9af-5d84565626db",
   "metadata": {},
   "outputs": [
    {
     "name": "stdout",
     "output_type": "stream",
     "text": [
      "       Name  Age           City\n",
      "0     Ayush   21          Noida\n",
      "1  Abhijeet   22       Haridwar\n",
      "2     Lucky   23  Greater Noida\n",
      "3      Atul   24         Meerut\n",
      "4   Anubhav   25         Bhopal\n",
      "5   Anirudh   21          patna\n",
      "6    Anchal   22      balrampur\n",
      "7   Anshika   27           orai\n",
      "       Name  Age           City\n",
      "0     Ayush   21          Noida\n",
      "1  Abhijeet   22       Haridwar\n",
      "2     Lucky   23  Greater Noida\n",
      "3      Atul   24         Meerut\n",
      "4   Anubhav   25         Bhopal\n"
     ]
    }
   ],
   "source": [
    "#Create a dictionary\n",
    "data = {\n",
    "    \"Name\":[\"Ayush\",\"Abhijeet\",\"Lucky\",\"Atul\",\"Anubhav\",\"Anirudh\",\"Anchal\",\"Anshika\"],\n",
    "    \"Age\":[21,22,23,24,25,21,22,27],\n",
    "    \"City\":[\"Noida\",\"Haridwar\",\"Greater Noida\",\"Meerut\",\"Bhopal\",\"patna\",\"balrampur\",\"orai\"]\n",
    "}\n",
    "\n",
    "#Create a dataframe from the dictionary\n",
    "df = pd.DataFrame(data)\n",
    "print(df)\n",
    "print(df.head())"
   ]
  },
  {
   "cell_type": "code",
   "execution_count": 18,
   "id": "8752f66c-fdd5-40ae-a1f0-e599132485b4",
   "metadata": {},
   "outputs": [],
   "source": [
    "#Data Exploration is a term in AI in which we can distrubute and categorize the data using some patterns and inspect that data,this is known as data exploration and analysis.\n"
   ]
  },
  {
   "cell_type": "code",
   "execution_count": 20,
   "id": "9c228c81-2220-403f-9164-3baea3d0dbed",
   "metadata": {},
   "outputs": [
    {
     "name": "stdout",
     "output_type": "stream",
     "text": [
      "Name\n",
      "John Doe           28\n",
      "Jane Smith         34\n",
      "Michael Johnson    45\n",
      "Emily Davis        29\n",
      "David Wilson       39\n",
      "Name: Age, dtype: int64\n"
     ]
    }
   ],
   "source": [
    "data = pd.read_csv(\"dummy.csv\",index_col=\"Name\")\n",
    "\n",
    "first = data[\"Age\"]\n",
    "\n",
    "print(first)"
   ]
  },
  {
   "cell_type": "code",
   "execution_count": null,
   "id": "ea37f5dc-d759-4e87-ba95-9380211a9279",
   "metadata": {},
   "outputs": [],
   "source": []
  }
 ],
 "metadata": {
  "kernelspec": {
   "display_name": "Python 3 (ipykernel)",
   "language": "python",
   "name": "python3"
  },
  "language_info": {
   "codemirror_mode": {
    "name": "ipython",
    "version": 3
   },
   "file_extension": ".py",
   "mimetype": "text/x-python",
   "name": "python",
   "nbconvert_exporter": "python",
   "pygments_lexer": "ipython3",
   "version": "3.11.3"
  }
 },
 "nbformat": 4,
 "nbformat_minor": 5
}
